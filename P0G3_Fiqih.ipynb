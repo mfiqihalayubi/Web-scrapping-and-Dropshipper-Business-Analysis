{
 "cells": [
  {
   "cell_type": "markdown",
   "metadata": {},
   "source": [
    "\n",
    "\n"
   ]
  },
  {
   "cell_type": "markdown",
   "metadata": {},
   "source": [
    "# 1. Pengambilan data dengan web scrapping\n"
   ]
  },
  {
   "cell_type": "code",
   "execution_count": 210,
   "metadata": {},
   "outputs": [
    {
     "name": "stderr",
     "output_type": "stream",
     "text": [
      "C:\\Users\\Fiqih\\AppData\\Local\\Temp\\ipykernel_5228\\3588572262.py:13: DeprecationWarning: Importing display from IPython.core.display is deprecated since IPython 7.14, please import from IPython display\n",
      "  from IPython.core.display import display, HTML\n"
     ]
    }
   ],
   "source": [
    "import pandas as pd\n",
    "from bs4 import BeautifulSoup\n",
    "from selenium import webdriver\n",
    "import time\n",
    "from selenium.webdriver.common.action_chains import ActionChains\n",
    "from selenium.webdriver.common.by import By\n",
    "import numpy as np\n",
    "import re\n",
    "\n",
    "from scipy import stats\n",
    "import matplotlib.pyplot as plt\n",
    "import seaborn as sns\n",
    "from IPython.core.display import display, HTML"
   ]
  },
  {
   "cell_type": "code",
   "execution_count": 211,
   "metadata": {},
   "outputs": [],
   "source": [
    "# # Membuat object dengan webdriver untuk membuka web\n",
    "# driver = webdriver.Edge()"
   ]
  },
  {
   "cell_type": "code",
   "execution_count": 212,
   "metadata": {},
   "outputs": [],
   "source": [
    "# # Membuat list kosong untuk menampung data kolom\n",
    "# nama_produk = []\n",
    "# harga_produk = []\n",
    "# nama_penjual = []\n",
    "# kota_toko = []\n",
    "# banyaknya_terjual = []\n",
    "# rating_produk = []\n",
    "\n",
    "# # Looping untuk membuka halaman page\n",
    "# for page in range(60) :\n",
    "\n",
    "#     # Membuat variable untuk mngarahkan ke website\n",
    "#     url = f\"https://www.tokopedia.com/search?navsource=&page={page}&q=seblak&srp_component_id=02.01.00.00&srp_page_id=&srp_page_title=&st=1\"\n",
    "\n",
    "#     # Mengarahkan browser ke url\n",
    "#     driver.get(url)\n",
    "\n",
    "#     # Delay 5 detik untuk memberikan waktu UI loading\n",
    "#     time.sleep(5)\n",
    "\n",
    "#     # Memberikan frekuensi scroll \n",
    "#     for i in range(20) :\n",
    "#         driver.execute_script(\"window.scrollBy(0,300)\")\n",
    "#         # Memberikan waktu jeda scroll\n",
    "#         time.sleep(1)\n",
    "    \n",
    "#     # Membaca kode html\n",
    "#     html = driver.page_source\n",
    "#     soup = BeautifulSoup(html, \"html.parser\")\n",
    "\n",
    "#     # Membuat container\n",
    "#     container = soup.find_all(\"div\", class_ = \"css-jza1fo\")\n",
    "\n",
    "#     # Looping untuk membaca tiap elemen di container\n",
    "#     for element in container :\n",
    "        \n",
    "#         # Ekstrak nama produk\n",
    "#         produk = element.find(\"div\", {\"class\" : \"prd_link-product-name css-3um8ox\"})\n",
    "#         if produk is not None :\n",
    "#             nama_produk.append(produk.get_text())\n",
    "#         else :\n",
    "#             nama_produk.append(None)\n",
    "\n",
    "#         # Ekstrak harga produk\n",
    "#         harga = element.find(\"div\", {\"class\" : \"prd_link-product-price css-h66vau\"})\n",
    "#         if harga is not None :\n",
    "#             harga_produk.append(harga.get_text())\n",
    "#         else :\n",
    "#             harga_produk.append(None)\n",
    "\n",
    "#         # Ekstrak nama penjual\n",
    "#         penjual = element.find(\"span\", attrs={\"class\" : \"prd_link-shop-name css-1kdc32b flip\"})\n",
    "#         if penjual is not None :\n",
    "#             nama_penjual.append(penjual.get_text())\n",
    "#         else :\n",
    "#             nama_penjual.append(None)\n",
    "\n",
    "#         # Ekstrak lokasi\n",
    "#         lokasi = element.find(\"span\", {\"class\" : \"prd_link-shop-loc css-1kdc32b flip\"})\n",
    "#         if lokasi is not None : \n",
    "#             kota_toko.append(lokasi.get_text())\n",
    "#         else :\n",
    "#             kota_toko.append(None)\n",
    "\n",
    "#         # Ekstrak jumlah produk yang terjual\n",
    "#         terjual = element.find(\"span\", {\"class\" : \"prd_label-integrity css-1sgek4h\"})\n",
    "#         if terjual is not None :\n",
    "#             banyaknya_terjual.append(terjual.get_text())\n",
    "#         else :\n",
    "#             banyaknya_terjual.append(None)\n",
    "\n",
    "#         # Ekstrak nilai rating produk\n",
    "#         rating = element.find(\"span\", {\"class\" : \"prd_rating-average-text css-t70v7i\"})\n",
    "#         if rating is not None :\n",
    "#             rating_produk.append(rating.get_text())\n",
    "#         else :\n",
    "#             rating_produk.append(None)\n",
    "\n",
    "\n",
    "## Menyimpan hasil ekstraksi/scrapping kedalam list\n",
    "# print()\n",
    "# df = pd.DataFrame()\n",
    "# df['Nama Penjual'] = nama_penjual\n",
    "# df['Nama Produk'] = nama_produk\n",
    "# df['Harga'] = harga_produk\n",
    "# df['Lokasi penjual'] = kota_toko\n",
    "# df['Jumlah terjual'] = banyaknya_terjual\n",
    "# df['Rating'] = rating_produk\n",
    "\n"
   ]
  },
  {
   "cell_type": "code",
   "execution_count": 213,
   "metadata": {},
   "outputs": [],
   "source": [
    "# df"
   ]
  },
  {
   "cell_type": "code",
   "execution_count": 214,
   "metadata": {},
   "outputs": [],
   "source": [
    "# driver.quit()"
   ]
  },
  {
   "cell_type": "code",
   "execution_count": 215,
   "metadata": {},
   "outputs": [],
   "source": [
    "# df.to_csv('food_tokped2.csv')"
   ]
  },
  {
   "cell_type": "markdown",
   "metadata": {},
   "source": [
    "# 2. Data Exploration"
   ]
  },
  {
   "cell_type": "markdown",
   "metadata": {},
   "source": [
    "### 2.1 Menampilkan table hasil scrapping"
   ]
  },
  {
   "cell_type": "code",
   "execution_count": 216,
   "metadata": {},
   "outputs": [
    {
     "data": {
      "text/html": [
       "<div>\n",
       "<style scoped>\n",
       "    .dataframe tbody tr th:only-of-type {\n",
       "        vertical-align: middle;\n",
       "    }\n",
       "\n",
       "    .dataframe tbody tr th {\n",
       "        vertical-align: top;\n",
       "    }\n",
       "\n",
       "    .dataframe thead th {\n",
       "        text-align: right;\n",
       "    }\n",
       "</style>\n",
       "<table border=\"1\" class=\"dataframe\">\n",
       "  <thead>\n",
       "    <tr style=\"text-align: right;\">\n",
       "      <th></th>\n",
       "      <th>Nama Penjual</th>\n",
       "      <th>Nama Produk</th>\n",
       "      <th>Harga</th>\n",
       "      <th>Lokasi penjual</th>\n",
       "      <th>Jumlah terjual</th>\n",
       "      <th>Rating</th>\n",
       "    </tr>\n",
       "  </thead>\n",
       "  <tbody>\n",
       "    <tr>\n",
       "      <th>0</th>\n",
       "      <td>Sajodo Snack &amp; Food</td>\n",
       "      <td>SEBLAK INSTAN SAJODO SNACK</td>\n",
       "      <td>Rp22.500</td>\n",
       "      <td>Tasikmalaya</td>\n",
       "      <td>100+ terjual</td>\n",
       "      <td>4.8</td>\n",
       "    </tr>\n",
       "    <tr>\n",
       "      <th>1</th>\n",
       "      <td>Kylafood Jakarta</td>\n",
       "      <td>Kylafood Seblak Rempah Autentik</td>\n",
       "      <td>Rp14.000</td>\n",
       "      <td>Jakarta Selatan</td>\n",
       "      <td>250+ terjual</td>\n",
       "      <td>5.0</td>\n",
       "    </tr>\n",
       "    <tr>\n",
       "      <th>2</th>\n",
       "      <td>hikmah berkah jaya</td>\n",
       "      <td>seblak instant sajodo snak</td>\n",
       "      <td>Rp19.000</td>\n",
       "      <td>Jakarta Barat</td>\n",
       "      <td>1rb+ terjual</td>\n",
       "      <td>4.8</td>\n",
       "    </tr>\n",
       "    <tr>\n",
       "      <th>3</th>\n",
       "      <td>ivy's-kitchen</td>\n",
       "      <td>PROMO !!!! Seblak Instan Beli 20 free 1 Murah ...</td>\n",
       "      <td>Rp4.280</td>\n",
       "      <td>Kab. Tangerang</td>\n",
       "      <td>750+ terjual</td>\n",
       "      <td>4.7</td>\n",
       "    </tr>\n",
       "    <tr>\n",
       "      <th>4</th>\n",
       "      <td>Sajodo Snack &amp; Food</td>\n",
       "      <td>[ Buy 5 Get 5 ] Special Bedug Package (Baso Ac...</td>\n",
       "      <td>Rp150.000</td>\n",
       "      <td>Tasikmalaya</td>\n",
       "      <td>7 terjual</td>\n",
       "      <td>4.8</td>\n",
       "    </tr>\n",
       "    <tr>\n",
       "      <th>5</th>\n",
       "      <td>GK_Snack</td>\n",
       "      <td>KERUPUK MENTAH SERBA 5000 BAHAN SEBLAK</td>\n",
       "      <td>Rp6.000</td>\n",
       "      <td>Kab. Bandung</td>\n",
       "      <td>750+ terjual</td>\n",
       "      <td>4.9</td>\n",
       "    </tr>\n",
       "    <tr>\n",
       "      <th>6</th>\n",
       "      <td>SNACK JAKARTA 411</td>\n",
       "      <td>Kerupuk Seblak</td>\n",
       "      <td>Rp8.000</td>\n",
       "      <td>Jakarta Barat</td>\n",
       "      <td>500+ terjual</td>\n",
       "      <td>5.0</td>\n",
       "    </tr>\n",
       "    <tr>\n",
       "      <th>7</th>\n",
       "      <td>Sultan Meat Shop</td>\n",
       "      <td>Seblak Sultan instant</td>\n",
       "      <td>Rp14.000</td>\n",
       "      <td>Medan</td>\n",
       "      <td>250+ terjual</td>\n",
       "      <td>4.8</td>\n",
       "    </tr>\n",
       "    <tr>\n",
       "      <th>8</th>\n",
       "      <td>Lidigeli</td>\n",
       "      <td>Gelifood Combo 3pcs Seblak Ceker Tanpa Tulang ...</td>\n",
       "      <td>Rp65.000</td>\n",
       "      <td>Kab. Garut</td>\n",
       "      <td>50+ terjual</td>\n",
       "      <td>4.6</td>\n",
       "    </tr>\n",
       "    <tr>\n",
       "      <th>9</th>\n",
       "      <td>ajs(ale jaya snack)</td>\n",
       "      <td>KERUPUK SEBLAK MINI KENCUR JABLAY BANTET PEDAS...</td>\n",
       "      <td>Rp23.000</td>\n",
       "      <td>Jakarta Utara</td>\n",
       "      <td>40+ terjual</td>\n",
       "      <td>4.9</td>\n",
       "    </tr>\n",
       "    <tr>\n",
       "      <th>10</th>\n",
       "      <td>Semesta kerupuk</td>\n",
       "      <td>Kerupuk mawar putih 1kg / kerupuk ikan/kerupuk...</td>\n",
       "      <td>Rp25.000</td>\n",
       "      <td>Tangerang Selatan</td>\n",
       "      <td>70+ terjual</td>\n",
       "      <td>4.9</td>\n",
       "    </tr>\n",
       "    <tr>\n",
       "      <th>11</th>\n",
       "      <td>NomeL Shop</td>\n",
       "      <td>BASO ACI HOMEMADE boci isi12 bakso aci termura...</td>\n",
       "      <td>Rp5.400</td>\n",
       "      <td>Surabaya</td>\n",
       "      <td>3rb+ terjual</td>\n",
       "      <td>4.6</td>\n",
       "    </tr>\n",
       "    <tr>\n",
       "      <th>12</th>\n",
       "      <td>Rak Sebelah</td>\n",
       "      <td>Bundle - Basranger Seblak | Baso Aci Extra Ped...</td>\n",
       "      <td>Rp56.300</td>\n",
       "      <td>Jakarta Pusat</td>\n",
       "      <td>100+ terjual</td>\n",
       "      <td>4.9</td>\n",
       "    </tr>\n",
       "    <tr>\n",
       "      <th>13</th>\n",
       "      <td>Sajodo Snack &amp; Food</td>\n",
       "      <td>3 BASO ACI FREE SEBLAK SAJODO SNACK &amp; FOOD</td>\n",
       "      <td>Rp90.000</td>\n",
       "      <td>Tasikmalaya</td>\n",
       "      <td>70+ terjual</td>\n",
       "      <td>5.0</td>\n",
       "    </tr>\n",
       "    <tr>\n",
       "      <th>14</th>\n",
       "      <td>tokomakanankalimantan</td>\n",
       "      <td>seblak instan jeletot jajanan hits bandung 1 p...</td>\n",
       "      <td>Rp4.180</td>\n",
       "      <td>Jakarta Barat</td>\n",
       "      <td>1rb+ terjual</td>\n",
       "      <td>4.8</td>\n",
       "    </tr>\n",
       "    <tr>\n",
       "      <th>15</th>\n",
       "      <td>CUANKI CULAMETAN</td>\n",
       "      <td>siomay mini kering 1kg toping seblak baso aci</td>\n",
       "      <td>Rp25.999</td>\n",
       "      <td>Kab. Garut</td>\n",
       "      <td>100+ terjual</td>\n",
       "      <td>4.9</td>\n",
       "    </tr>\n",
       "    <tr>\n",
       "      <th>16</th>\n",
       "      <td>Sajodo Snack &amp; Food</td>\n",
       "      <td>SEBLAK INSTAN SAJODO SNACK</td>\n",
       "      <td>Rp22.500</td>\n",
       "      <td>Tasikmalaya</td>\n",
       "      <td>100+ terjual</td>\n",
       "      <td>4.8</td>\n",
       "    </tr>\n",
       "    <tr>\n",
       "      <th>17</th>\n",
       "      <td>Kylafood Jakarta</td>\n",
       "      <td>Kylafood Seblak Rempah Autentik</td>\n",
       "      <td>Rp14.000</td>\n",
       "      <td>Jakarta Selatan</td>\n",
       "      <td>250+ terjual</td>\n",
       "      <td>5.0</td>\n",
       "    </tr>\n",
       "    <tr>\n",
       "      <th>18</th>\n",
       "      <td>Markas Makaroni</td>\n",
       "      <td>Muria Seblak Stik Cabe Merah Snack 60 gram</td>\n",
       "      <td>Rp5.900</td>\n",
       "      <td>Kab. Bekasi</td>\n",
       "      <td>250+ terjual</td>\n",
       "      <td>4.9</td>\n",
       "    </tr>\n",
       "    <tr>\n",
       "      <th>19</th>\n",
       "      <td>Kylafood Jakarta</td>\n",
       "      <td>Kylafood Seblak Rempah Autentik</td>\n",
       "      <td>Rp14.000</td>\n",
       "      <td>Jakarta Selatan</td>\n",
       "      <td>250+ terjual</td>\n",
       "      <td>5.0</td>\n",
       "    </tr>\n",
       "  </tbody>\n",
       "</table>\n",
       "</div>"
      ],
      "text/plain": [
       "             Nama Penjual                                        Nama Produk  \\\n",
       "0     Sajodo Snack & Food                         SEBLAK INSTAN SAJODO SNACK   \n",
       "1        Kylafood Jakarta                    Kylafood Seblak Rempah Autentik   \n",
       "2      hikmah berkah jaya                         seblak instant sajodo snak   \n",
       "3           ivy's-kitchen  PROMO !!!! Seblak Instan Beli 20 free 1 Murah ...   \n",
       "4     Sajodo Snack & Food  [ Buy 5 Get 5 ] Special Bedug Package (Baso Ac...   \n",
       "5                GK_Snack             KERUPUK MENTAH SERBA 5000 BAHAN SEBLAK   \n",
       "6       SNACK JAKARTA 411                                     Kerupuk Seblak   \n",
       "7        Sultan Meat Shop                              Seblak Sultan instant   \n",
       "8                Lidigeli  Gelifood Combo 3pcs Seblak Ceker Tanpa Tulang ...   \n",
       "9     ajs(ale jaya snack)  KERUPUK SEBLAK MINI KENCUR JABLAY BANTET PEDAS...   \n",
       "10        Semesta kerupuk  Kerupuk mawar putih 1kg / kerupuk ikan/kerupuk...   \n",
       "11             NomeL Shop  BASO ACI HOMEMADE boci isi12 bakso aci termura...   \n",
       "12            Rak Sebelah  Bundle - Basranger Seblak | Baso Aci Extra Ped...   \n",
       "13    Sajodo Snack & Food         3 BASO ACI FREE SEBLAK SAJODO SNACK & FOOD   \n",
       "14  tokomakanankalimantan  seblak instan jeletot jajanan hits bandung 1 p...   \n",
       "15       CUANKI CULAMETAN      siomay mini kering 1kg toping seblak baso aci   \n",
       "16    Sajodo Snack & Food                         SEBLAK INSTAN SAJODO SNACK   \n",
       "17       Kylafood Jakarta                    Kylafood Seblak Rempah Autentik   \n",
       "18        Markas Makaroni         Muria Seblak Stik Cabe Merah Snack 60 gram   \n",
       "19       Kylafood Jakarta                    Kylafood Seblak Rempah Autentik   \n",
       "\n",
       "        Harga     Lokasi penjual Jumlah terjual  Rating  \n",
       "0    Rp22.500        Tasikmalaya   100+ terjual     4.8  \n",
       "1    Rp14.000    Jakarta Selatan   250+ terjual     5.0  \n",
       "2    Rp19.000      Jakarta Barat   1rb+ terjual     4.8  \n",
       "3     Rp4.280     Kab. Tangerang   750+ terjual     4.7  \n",
       "4   Rp150.000        Tasikmalaya      7 terjual     4.8  \n",
       "5     Rp6.000       Kab. Bandung   750+ terjual     4.9  \n",
       "6     Rp8.000      Jakarta Barat   500+ terjual     5.0  \n",
       "7    Rp14.000              Medan   250+ terjual     4.8  \n",
       "8    Rp65.000         Kab. Garut    50+ terjual     4.6  \n",
       "9    Rp23.000      Jakarta Utara    40+ terjual     4.9  \n",
       "10   Rp25.000  Tangerang Selatan    70+ terjual     4.9  \n",
       "11    Rp5.400           Surabaya   3rb+ terjual     4.6  \n",
       "12   Rp56.300      Jakarta Pusat   100+ terjual     4.9  \n",
       "13   Rp90.000        Tasikmalaya    70+ terjual     5.0  \n",
       "14    Rp4.180      Jakarta Barat   1rb+ terjual     4.8  \n",
       "15   Rp25.999         Kab. Garut   100+ terjual     4.9  \n",
       "16   Rp22.500        Tasikmalaya   100+ terjual     4.8  \n",
       "17   Rp14.000    Jakarta Selatan   250+ terjual     5.0  \n",
       "18    Rp5.900        Kab. Bekasi   250+ terjual     4.9  \n",
       "19   Rp14.000    Jakarta Selatan   250+ terjual     5.0  "
      ]
     },
     "execution_count": 216,
     "metadata": {},
     "output_type": "execute_result"
    }
   ],
   "source": [
    "# Menampilkan table\n",
    "ds = pd.read_csv('food_tokped2.csv',index_col = 0)\n",
    "ds.head(20)"
   ]
  },
  {
   "cell_type": "markdown",
   "metadata": {},
   "source": [
    "Dari sebagian data yang ditampilkan di atas, dapat diambil kesimpulan sebagai berikut :\n",
    "1. Pada kolom jumlah terjual, karakter - karakter string atau objeck harus dihapus karena nilai pada kolom tersebut akan digunakan untuk perhitungan statistika\n",
    "\n",
    "2. Pada kolom lokasi, nilai - nilai yang menggandung kata kategorik ordinal seperti \"Kab.\" harus dihapus agar tidak menyebabkan kerancuan atau kebingungan mengenai daerah. Oleh karena itu mulai saat ini penyebutan daerah hanya berisikan nama daerah tersebut bukan identitas ordinalnya seperti Kab., Kota, dll\n",
    "\n",
    "3. Pad kolom harga, karakter \"Rp.\" harus dihapus karena nialai dari kolom tersebut akan dipakai untuk perhitungan statistika. Sebagai gantinya, penjelasan mengenai satuan mata uang akan di tampilkan bersamaan dengan nama kolom\n",
    "\n",
    "4. Beberapa nama produk menyiratkan bahwa produk tersebut dijual dalam bentuk bundle atau bukan dalam satuan per pcs (contoh 'Gelifood Combo 3pcs Seblak Ceker Tanpa Tulang'). Ini artinya, harganya pun bukan dalam satuan pcs namun dalam satuan bundle. Nilai harga dari produk - produk yang dijual dalam bentuk bundle tentunya memiliki harga yang lebih besar diabndingkan produk yang dijual per pcs. Kemungkinan besar nilai seperti ini nantinya akan menjadi outlier\n",
    "\n",
    "\n"
   ]
  },
  {
   "cell_type": "markdown",
   "metadata": {},
   "source": [
    "### 2.2 Menampilkan info dasar dari table beserta kolom"
   ]
  },
  {
   "cell_type": "code",
   "execution_count": 217,
   "metadata": {},
   "outputs": [
    {
     "name": "stdout",
     "output_type": "stream",
     "text": [
      "<class 'pandas.core.frame.DataFrame'>\n",
      "Index: 944 entries, 0 to 943\n",
      "Data columns (total 6 columns):\n",
      " #   Column          Non-Null Count  Dtype  \n",
      "---  ------          --------------  -----  \n",
      " 0   Nama Penjual    944 non-null    object \n",
      " 1   Nama Produk     944 non-null    object \n",
      " 2   Harga           944 non-null    object \n",
      " 3   Lokasi penjual  944 non-null    object \n",
      " 4   Jumlah terjual  885 non-null    object \n",
      " 5   Rating          861 non-null    float64\n",
      "dtypes: float64(1), object(5)\n",
      "memory usage: 51.6+ KB\n"
     ]
    }
   ],
   "source": [
    "# Menampilkan info table dan kolom - kolomnya\n",
    "ds.info()"
   ]
  },
  {
   "cell_type": "markdown",
   "metadata": {},
   "source": [
    "Dari data di atas dapat disimpulkan :\n",
    "\n",
    "1. Dari 944 entries, terdapat 59 missing values pada kolom Jumlah terjual dan 83 missing values pada kolom Rating. Hal ini dapat terjadi jika pembeli belum atau tidak memberikan rating pada penjual meskipun barang yang dibeli sudah sampai\n",
    "\n",
    "2. Dari 3 kolom yang menampilkan data numerik pada table, hanya 1 kolom (kolom Rating) yang tipe datanya benar-benar data numerik. Selanjutnya tipe data harga dan jumlah terjual akan diubah menjadi tipe data numerik agar sesuai dengan informasi yang ditampilkan dan agar dapat dipergunakan untuk perhitungan statistik\n"
   ]
  },
  {
   "cell_type": "markdown",
   "metadata": {},
   "source": [
    "### 2.3 Menampilkan frekuensi kemunculan masing - masing penjual"
   ]
  },
  {
   "cell_type": "code",
   "execution_count": 218,
   "metadata": {},
   "outputs": [
    {
     "data": {
      "text/plain": [
       "Nama Penjual\n",
       "kylafood                47\n",
       "Sajodo Snack & Food     23\n",
       "CuankiCulametan         22\n",
       "CUANKI CULAMETAN        19\n",
       "Kylafood Jakarta        18\n",
       "                        ..\n",
       "macaronimangade          1\n",
       "Justipsaza               1\n",
       "Boboko Snack Oficial     1\n",
       "sinergi snack            1\n",
       "warungkopay              1\n",
       "Name: count, Length: 506, dtype: int64"
      ]
     },
     "execution_count": 218,
     "metadata": {},
     "output_type": "execute_result"
    }
   ],
   "source": [
    "# Melihat nama-nama penjual\n",
    "ds['Nama Penjual'].value_counts()"
   ]
  },
  {
   "cell_type": "markdown",
   "metadata": {},
   "source": [
    "Dari 944 baris data atau postingan produk, jumlah penjual yang memosting produk dengan kata kunci seblak sebanyak 506 penjual. Nilai jumlah penjual yang lebih rendah dari total baris atau entries data dapat disebabkan karena beberapa hal :\n",
    "1. Beberapa penjual dapat memposting beberapa variasi produk. Hal ini mengindikasikan bahwa produk seblak memiliki beberapa variasi\n",
    "\n",
    "2. Penjual memposting lebih dari 1 kali untuk 1 produk yang sama atau dengan kata lain table dapat memiliki baris duplikat. Hal ini harus dihindari sebelum perhitungan \n",
    "statistik dan oleh sebab itu maka harus dilakukan pengecekan baris duplikat. Jika ada baris duplikat maka baris tersebut akan dihapus dan hanya meninggalkan 1 baris unique"
   ]
  },
  {
   "cell_type": "markdown",
   "metadata": {},
   "source": [
    "### 2.3 Menampilkan frekuensi kemunculan nama produk"
   ]
  },
  {
   "cell_type": "code",
   "execution_count": 219,
   "metadata": {},
   "outputs": [
    {
     "data": {
      "text/plain": [
       "Nama Produk\n",
       "Kylafood Seblak Rempah Autentik                                           11\n",
       "SEBLAK INSTAN SAJODO SNACK                                                 9\n",
       "[ Buy 5 Get 5 ] Special Bedug Package (Baso Aci, Seblak, Keju Aroma...     9\n",
       "Bundle - Basranger Seblak | Baso Aci Extra Pedas | Tulang Rangu            7\n",
       "seblak instan mie bakso om brewok                                          7\n",
       "                                                                          ..\n",
       "kerupuk ikan mentah 1kg / kerupuk bawang mentah lezat /kerupuk seblak      1\n",
       "SEBLAK RAFAEL SHYFA SNACK                                                  1\n",
       "baso Aci/boci/seblak CUANKI TAHU KERING KHAS GARUT 1 BAL                   1\n",
       "Sambal seblak instan/bumbu seblak basah                                    1\n",
       "Cikur / Pilus Anisa Sari 230 Gram, Bahan Seblak                            1\n",
       "Name: count, Length: 741, dtype: int64"
      ]
     },
     "execution_count": 219,
     "metadata": {},
     "output_type": "execute_result"
    }
   ],
   "source": [
    "# Melihat nama - nama produk\n",
    "ds['Nama Produk'].value_counts()"
   ]
  },
  {
   "cell_type": "markdown",
   "metadata": {},
   "source": [
    "Dari 944 baris data, terdapat 741 produk yang dijual. Hal ini cukup aneh karena tidak mungkin suatu produk yang memiliki spesifikasi yang sama ditampilkan lebih dari 2 kali. Ada 2 kemungkinan kenapa hal ini terjadi :\n",
    "\n",
    "1. Terdapat data duplikat. Data duplikat harus dihapus karena dapat mengacaukan hasil perhitungan statistik. Dalam program ini, nantinya kita akan melakukan cek duplikasi data dan jika ada maka data duplikat tersebut akan dihapus\n",
    "\n",
    "2. Terdapat beberapa penjual yang menjual produk yang sama. Seperti yang kita tahu, beberapa produk yang dipajang di marketplace tidak semuanya dijual langsung oleh produsen atau official storenya. Produk - produk tersebut biasanya dipajang atau dijual oleh dropshipper\n",
    "\n",
    "Dari data di atas juga kita dapat menyimpulkan bahwa ketika kita mencari keyword seblak, tidak semua produk yang ditampilkan di tokopedia adalah seblak itu sendiri tapi bisa jadi yang ditampilkan adalah hal-hal yang berikaitan dengan seblak seperti topping atau bumbu seblak\n",
    "\n",
    "\n"
   ]
  },
  {
   "cell_type": "markdown",
   "metadata": {},
   "source": [
    "### 2.4 Melihat data lokasi penjual berasal"
   ]
  },
  {
   "cell_type": "code",
   "execution_count": 220,
   "metadata": {},
   "outputs": [
    {
     "data": {
      "text/plain": [
       "Lokasi penjual\n",
       "Bandung               117\n",
       "Kab. Garut            104\n",
       "Jakarta Barat          93\n",
       "Jakarta Selatan        84\n",
       "Tangerang Selatan      54\n",
       "Jakarta Pusat          52\n",
       "Kab. Bandung           46\n",
       "Jakarta Timur          45\n",
       "Surabaya               38\n",
       "Tasikmalaya            34\n",
       "Kab. Bogor             31\n",
       "Kab. Tangerang         29\n",
       "Cimahi                 25\n",
       "Tangerang              24\n",
       "Depok                  19\n",
       "Kab. Sidoarjo          15\n",
       "Jakarta Utara          14\n",
       "Semarang               13\n",
       "Malang                 11\n",
       "Bogor                   8\n",
       "Kab. Bekasi             8\n",
       "Kab. Bandung Barat      8\n",
       "Bekasi                  7\n",
       "Kab. Sleman             6\n",
       "Denpasar                5\n",
       "Medan                   5\n",
       "Kab. Sukoharjo          4\n",
       "Kab. Tasikmalaya        4\n",
       "Bandar Lampung          4\n",
       "Yogyakarta              3\n",
       "Kab. Tegal              2\n",
       "Makassar                2\n",
       "Kab. Kediri             2\n",
       "Banjarbaru              2\n",
       "Pontianak               2\n",
       "Kediri                  2\n",
       "Pekanbaru               2\n",
       "Kab. Malang             2\n",
       "Kab. Bantul             2\n",
       "Kab. Jombang            1\n",
       "Kab. Lebak              1\n",
       "Kab.Ciamis              1\n",
       "Kab. Tulungagung        1\n",
       "Kab. Sukabumi           1\n",
       "Kab. Demak              1\n",
       "Kab. Cianjur            1\n",
       "Kab. Jember             1\n",
       "Kab. Majalengka         1\n",
       "Madiun                  1\n",
       "Cirebon                 1\n",
       "Kab. Kebumen            1\n",
       "Kab. Pasuruan           1\n",
       "Kab. Cirebon            1\n",
       "Kab. Kendal             1\n",
       "Kab. Karawang           1\n",
       "Name: count, dtype: int64"
      ]
     },
     "execution_count": 220,
     "metadata": {},
     "output_type": "execute_result"
    }
   ],
   "source": [
    "# Melihat lokasi penjual\n",
    "ds['Lokasi penjual'].value_counts()"
   ]
  },
  {
   "cell_type": "markdown",
   "metadata": {},
   "source": [
    "Dari data di atas kita dapat mengambil beberapa kesimpulan :\n",
    "\n",
    "1. Sebagian besar penjual berasal dari bandung. Namun hal ini harus divalidasi lagi karena nantinya atribut - atribut seperti 'Kab.', 'Selatan', 'Utara', 'Timur' akan dihapus. Hal ini bertujuan agar memudahkan kategorisasi dari asal penjual"
   ]
  },
  {
   "cell_type": "markdown",
   "metadata": {},
   "source": [
    "### 2.5 Melihat segmentasi jumlah produk terjual "
   ]
  },
  {
   "cell_type": "code",
   "execution_count": 221,
   "metadata": {},
   "outputs": [
    {
     "data": {
      "text/plain": [
       "Jumlah terjual\n",
       "100+ terjual     132\n",
       "250+ terjual      59\n",
       "2 terjual         47\n",
       "1 terjual         47\n",
       "4 terjual         43\n",
       "30+ terjual       41\n",
       "5 terjual         40\n",
       "40+ terjual       34\n",
       "7 terjual         30\n",
       "500+ terjual      30\n",
       "3 terjual         29\n",
       "1rb+ terjual      27\n",
       "50+ terjual       27\n",
       "6 terjual         23\n",
       "60+ terjual       18\n",
       "70+ terjual       17\n",
       "90+ terjual       16\n",
       "750+ terjual      15\n",
       "14 terjual        14\n",
       "8 terjual         14\n",
       "28 terjual        13\n",
       "80+ terjual       13\n",
       "3rb+ terjual      11\n",
       "22 terjual        11\n",
       "4rb+ terjual      10\n",
       "11 terjual         9\n",
       "10 terjual         9\n",
       "17 terjual         9\n",
       "10rb+ terjual      8\n",
       "2rb+ terjual       8\n",
       "13 terjual         7\n",
       "9 terjual          7\n",
       "25 terjual         7\n",
       "12 terjual         7\n",
       "15 terjual         6\n",
       "16 terjual         6\n",
       "27 terjual         6\n",
       "23 terjual         6\n",
       "19 terjual         5\n",
       "18 terjual         5\n",
       "21 terjual         5\n",
       "20 terjual         5\n",
       "24 terjual         4\n",
       "29 terjual         3\n",
       "26 terjual         1\n",
       "5rb+ terjual       1\n",
       "Name: count, dtype: int64"
      ]
     },
     "execution_count": 221,
     "metadata": {},
     "output_type": "execute_result"
    }
   ],
   "source": [
    "# Melihat frekuensi unique values muncul\n",
    "ds['Jumlah terjual'].value_counts()"
   ]
  },
  {
   "cell_type": "markdown",
   "metadata": {},
   "source": [
    "Dari data frekquensi unique values di atas, kita dapat mengambil kesimpulan :\n",
    "\n",
    "1. 2 Karakter string harus dihapus seperti kata \"terjual\" dan karakter \"+\" agar nantinya tipe data tersebut dapat diubah menjadi tipe data numerik perubahan tipe data dilakukan agar data jumlah terjual dapat digunakan untuk perhitungan statistik\n",
    "\n",
    "2. Produk - produk yang memiliki angka penjualan lebih >= 100 dan <= 200  memiliki frekuensi kemunculan tertinggi\n",
    "\n",
    "    "
   ]
  },
  {
   "cell_type": "markdown",
   "metadata": {},
   "source": [
    "### 2.5 Melihat segmentasi rating produk "
   ]
  },
  {
   "cell_type": "code",
   "execution_count": 222,
   "metadata": {},
   "outputs": [
    {
     "data": {
      "text/plain": [
       "Rating\n",
       "5.0    434\n",
       "4.9    196\n",
       "4.8    149\n",
       "4.7     32\n",
       "4.5     12\n",
       "4.6     11\n",
       "4.3     10\n",
       "4.0      9\n",
       "4.4      5\n",
       "3.7      1\n",
       "3.9      1\n",
       "4.2      1\n",
       "Name: count, dtype: int64"
      ]
     },
     "execution_count": 222,
     "metadata": {},
     "output_type": "execute_result"
    }
   ],
   "source": [
    "# Melihat rating values\n",
    "ds['Rating'].value_counts()"
   ]
  },
  {
   "cell_type": "code",
   "execution_count": 223,
   "metadata": {},
   "outputs": [
    {
     "name": "stdout",
     "output_type": "stream",
     "text": [
      "50.40650406504065 %\n"
     ]
    }
   ],
   "source": [
    "# Melihat presentase produk dengan rating 5.0 terhadap seluruh populasi produk yang diberikan rating\n",
    "print(f\"{((len(ds.loc[ds['Rating'] == 5.0]))/(ds['Rating'].value_counts().sum()))*100} %\")\n"
   ]
  },
  {
   "cell_type": "markdown",
   "metadata": {},
   "source": [
    "Rating menggambarkan kepuasan atau penilaian konsumen terhadap suatu produk dan layanan penjual. Dari data di atas, mayoritas produk (50.4 %) mendapatkan rating 5.0 . Hal ini bisa memiliki kemungkinan bahwa sebagian besar konsumen puas terhadap sebagian besar produk serta layanan dari penjual"
   ]
  },
  {
   "cell_type": "markdown",
   "metadata": {},
   "source": [
    "# 3. Data Cleaning"
   ]
  },
  {
   "cell_type": "markdown",
   "metadata": {},
   "source": [
    "### 3.1 Mengatasi data duplikat"
   ]
  },
  {
   "cell_type": "code",
   "execution_count": 224,
   "metadata": {},
   "outputs": [
    {
     "data": {
      "text/plain": [
       "944"
      ]
     },
     "execution_count": 224,
     "metadata": {},
     "output_type": "execute_result"
    }
   ],
   "source": [
    "# Cek jumlah data\n",
    "len(ds)"
   ]
  },
  {
   "cell_type": "code",
   "execution_count": 225,
   "metadata": {},
   "outputs": [
    {
     "data": {
      "text/plain": [
       "177"
      ]
     },
     "execution_count": 225,
     "metadata": {},
     "output_type": "execute_result"
    }
   ],
   "source": [
    "# Cek data duplikat\n",
    "ds.duplicated().sum()"
   ]
  },
  {
   "cell_type": "code",
   "execution_count": 226,
   "metadata": {},
   "outputs": [
    {
     "name": "stdout",
     "output_type": "stream",
     "text": [
      "Presentase data duplikat = 18.75 %\n"
     ]
    }
   ],
   "source": [
    "print(f\"Presentase data duplikat = {((ds.duplicated().sum())/(len(ds)))*100} %\")"
   ]
  },
  {
   "cell_type": "markdown",
   "metadata": {},
   "source": [
    "Dari 944 data, 18.75 % diantaranya merupakan baris duplikat. Ini artinya, suatu produk yang diposting oleh seorang penjual memiliki kemungkinan untuk muncul kembali di page yang berbeda. Data duplikat tersebut akan kita hapus"
   ]
  },
  {
   "cell_type": "code",
   "execution_count": 227,
   "metadata": {},
   "outputs": [
    {
     "data": {
      "text/html": [
       "<div>\n",
       "<style scoped>\n",
       "    .dataframe tbody tr th:only-of-type {\n",
       "        vertical-align: middle;\n",
       "    }\n",
       "\n",
       "    .dataframe tbody tr th {\n",
       "        vertical-align: top;\n",
       "    }\n",
       "\n",
       "    .dataframe thead th {\n",
       "        text-align: right;\n",
       "    }\n",
       "</style>\n",
       "<table border=\"1\" class=\"dataframe\">\n",
       "  <thead>\n",
       "    <tr style=\"text-align: right;\">\n",
       "      <th></th>\n",
       "      <th>Nama Penjual</th>\n",
       "      <th>Nama Produk</th>\n",
       "      <th>Harga</th>\n",
       "      <th>Lokasi penjual</th>\n",
       "      <th>Jumlah terjual</th>\n",
       "      <th>Rating</th>\n",
       "    </tr>\n",
       "  </thead>\n",
       "  <tbody>\n",
       "    <tr>\n",
       "      <th>16</th>\n",
       "      <td>Sajodo Snack &amp; Food</td>\n",
       "      <td>SEBLAK INSTAN SAJODO SNACK</td>\n",
       "      <td>Rp22.500</td>\n",
       "      <td>Tasikmalaya</td>\n",
       "      <td>100+ terjual</td>\n",
       "      <td>4.8</td>\n",
       "    </tr>\n",
       "    <tr>\n",
       "      <th>17</th>\n",
       "      <td>Kylafood Jakarta</td>\n",
       "      <td>Kylafood Seblak Rempah Autentik</td>\n",
       "      <td>Rp14.000</td>\n",
       "      <td>Jakarta Selatan</td>\n",
       "      <td>250+ terjual</td>\n",
       "      <td>5.0</td>\n",
       "    </tr>\n",
       "    <tr>\n",
       "      <th>19</th>\n",
       "      <td>Kylafood Jakarta</td>\n",
       "      <td>Kylafood Seblak Rempah Autentik</td>\n",
       "      <td>Rp14.000</td>\n",
       "      <td>Jakarta Selatan</td>\n",
       "      <td>250+ terjual</td>\n",
       "      <td>5.0</td>\n",
       "    </tr>\n",
       "    <tr>\n",
       "      <th>20</th>\n",
       "      <td>Sajodo Snack &amp; Food</td>\n",
       "      <td>[ Buy 5 Get 5 ] Special Bedug Package (Baso Ac...</td>\n",
       "      <td>Rp150.000</td>\n",
       "      <td>Tasikmalaya</td>\n",
       "      <td>7 terjual</td>\n",
       "      <td>4.8</td>\n",
       "    </tr>\n",
       "    <tr>\n",
       "      <th>23</th>\n",
       "      <td>Sultan Meat Shop</td>\n",
       "      <td>Seblak Sultan instant</td>\n",
       "      <td>Rp14.000</td>\n",
       "      <td>Medan</td>\n",
       "      <td>250+ terjual</td>\n",
       "      <td>4.8</td>\n",
       "    </tr>\n",
       "    <tr>\n",
       "      <th>...</th>\n",
       "      <td>...</td>\n",
       "      <td>...</td>\n",
       "      <td>...</td>\n",
       "      <td>...</td>\n",
       "      <td>...</td>\n",
       "      <td>...</td>\n",
       "    </tr>\n",
       "    <tr>\n",
       "      <th>928</th>\n",
       "      <td>Foodstocks</td>\n",
       "      <td>Soun Seblak Geprek SAMI RAOS Khas Garut - Soun...</td>\n",
       "      <td>Rp18.900</td>\n",
       "      <td>Jakarta Selatan</td>\n",
       "      <td>60+ terjual</td>\n",
       "      <td>4.9</td>\n",
       "    </tr>\n",
       "    <tr>\n",
       "      <th>929</th>\n",
       "      <td>kira3arut</td>\n",
       "      <td>cuanki lidah asli garut isi 150 pcs</td>\n",
       "      <td>Rp32.500</td>\n",
       "      <td>Kab. Garut</td>\n",
       "      <td>10rb+ terjual</td>\n",
       "      <td>4.9</td>\n",
       "    </tr>\n",
       "    <tr>\n",
       "      <th>932</th>\n",
       "      <td>Rak Sebelah</td>\n",
       "      <td>Bundle - Basranger Seblak | Baso Aci Extra Ped...</td>\n",
       "      <td>Rp56.300</td>\n",
       "      <td>Jakarta Pusat</td>\n",
       "      <td>100+ terjual</td>\n",
       "      <td>4.9</td>\n",
       "    </tr>\n",
       "    <tr>\n",
       "      <th>935</th>\n",
       "      <td>Jajanan Hits (JS)</td>\n",
       "      <td>Seblak Tulang Rangu Nyai Mercon</td>\n",
       "      <td>Rp21.000</td>\n",
       "      <td>Tangerang Selatan</td>\n",
       "      <td>40+ terjual</td>\n",
       "      <td>5.0</td>\n",
       "    </tr>\n",
       "    <tr>\n",
       "      <th>943</th>\n",
       "      <td>kylafood</td>\n",
       "      <td>Kylafood Seblak Mie Baso</td>\n",
       "      <td>Rp26.125</td>\n",
       "      <td>Bandung</td>\n",
       "      <td>4rb+ terjual</td>\n",
       "      <td>4.9</td>\n",
       "    </tr>\n",
       "  </tbody>\n",
       "</table>\n",
       "<p>177 rows × 6 columns</p>\n",
       "</div>"
      ],
      "text/plain": [
       "            Nama Penjual                                        Nama Produk  \\\n",
       "16   Sajodo Snack & Food                         SEBLAK INSTAN SAJODO SNACK   \n",
       "17      Kylafood Jakarta                    Kylafood Seblak Rempah Autentik   \n",
       "19      Kylafood Jakarta                    Kylafood Seblak Rempah Autentik   \n",
       "20   Sajodo Snack & Food  [ Buy 5 Get 5 ] Special Bedug Package (Baso Ac...   \n",
       "23      Sultan Meat Shop                              Seblak Sultan instant   \n",
       "..                   ...                                                ...   \n",
       "928           Foodstocks  Soun Seblak Geprek SAMI RAOS Khas Garut - Soun...   \n",
       "929            kira3arut                cuanki lidah asli garut isi 150 pcs   \n",
       "932          Rak Sebelah  Bundle - Basranger Seblak | Baso Aci Extra Ped...   \n",
       "935    Jajanan Hits (JS)                    Seblak Tulang Rangu Nyai Mercon   \n",
       "943             kylafood                           Kylafood Seblak Mie Baso   \n",
       "\n",
       "         Harga     Lokasi penjual Jumlah terjual  Rating  \n",
       "16    Rp22.500        Tasikmalaya   100+ terjual     4.8  \n",
       "17    Rp14.000    Jakarta Selatan   250+ terjual     5.0  \n",
       "19    Rp14.000    Jakarta Selatan   250+ terjual     5.0  \n",
       "20   Rp150.000        Tasikmalaya      7 terjual     4.8  \n",
       "23    Rp14.000              Medan   250+ terjual     4.8  \n",
       "..         ...                ...            ...     ...  \n",
       "928   Rp18.900    Jakarta Selatan    60+ terjual     4.9  \n",
       "929   Rp32.500         Kab. Garut  10rb+ terjual     4.9  \n",
       "932   Rp56.300      Jakarta Pusat   100+ terjual     4.9  \n",
       "935   Rp21.000  Tangerang Selatan    40+ terjual     5.0  \n",
       "943   Rp26.125            Bandung   4rb+ terjual     4.9  \n",
       "\n",
       "[177 rows x 6 columns]"
      ]
     },
     "execution_count": 227,
     "metadata": {},
     "output_type": "execute_result"
    }
   ],
   "source": [
    "# Cek data duplikat dalam bentuk dataframe\n",
    "ds[ds.duplicated()]"
   ]
  },
  {
   "cell_type": "code",
   "execution_count": 228,
   "metadata": {},
   "outputs": [],
   "source": [
    "# Menghapus data duplikat\n",
    "ds.drop_duplicates(inplace=True, ignore_index=True)"
   ]
  },
  {
   "cell_type": "code",
   "execution_count": 229,
   "metadata": {},
   "outputs": [
    {
     "data": {
      "text/plain": [
       "0"
      ]
     },
     "execution_count": 229,
     "metadata": {},
     "output_type": "execute_result"
    }
   ],
   "source": [
    "# Cek ulang data duplikat\n",
    "ds.duplicated().sum()"
   ]
  },
  {
   "cell_type": "code",
   "execution_count": 230,
   "metadata": {},
   "outputs": [
    {
     "data": {
      "text/plain": [
       "767"
      ]
     },
     "execution_count": 230,
     "metadata": {},
     "output_type": "execute_result"
    }
   ],
   "source": [
    "# Cek total data setelah penghapusan data duplikat\n",
    "len(ds)"
   ]
  },
  {
   "cell_type": "markdown",
   "metadata": {},
   "source": [
    "Setelah penghapusan data duplikat, total data berkurang dari 944 menjadi 767 data"
   ]
  },
  {
   "cell_type": "markdown",
   "metadata": {},
   "source": [
    "### 3.2 Mengatasi Missing Values"
   ]
  },
  {
   "cell_type": "markdown",
   "metadata": {},
   "source": [
    "Handling missing values akan dibagi menjadi 2, yaitu handling standard missing values dan handling non standard mising values. Hal ini dikarenakan cara pencarian missing values untuk 2 jenis missing values tersebut berbeda. Untuk standard missing values (None, NaN, N/A) dapat dilakukan dengan menggunakan fungsi .isna() atau .isnull() karena secara otomatis pyhton dan pandas akan mengenali missing values tersebut. Namun untuk mencari non standard missing values kita harus memilih karakter apa yang akan dijadikan sebagai missing values (ex : unknown, '', dsb). \n",
    "\n",
    "Setelah missing values ditemukan kita akan tentukan untuk menghapus atau mengisi dengan nilai lain baris - baris yang memiliki missing values tersebut\n",
    "\n"
   ]
  },
  {
   "cell_type": "markdown",
   "metadata": {},
   "source": [
    "#### 3.2.1 Standard Missing Values"
   ]
  },
  {
   "cell_type": "code",
   "execution_count": 231,
   "metadata": {},
   "outputs": [
    {
     "data": {
      "text/plain": [
       "Nama Penjual       0\n",
       "Nama Produk        0\n",
       "Harga              0\n",
       "Lokasi penjual     0\n",
       "Jumlah terjual    59\n",
       "Rating            83\n",
       "dtype: int64"
      ]
     },
     "execution_count": 231,
     "metadata": {},
     "output_type": "execute_result"
    }
   ],
   "source": [
    "# Cek standard missing values\n",
    "ds.isna().sum()"
   ]
  },
  {
   "cell_type": "markdown",
   "metadata": {},
   "source": [
    "Dari data pencarian missing values di atas dapat kita ketahui bahwa terdapat 59 missing values pada kolom 'Jumlah terjual' dan 83 missing values pada kolom 'Rating'. Pada tahap ini kita harus berhati - hati dalam mengambil keputusan untuk menghapus data. Hal ini disebabkan missing values pada kolom tersebut bisa jadi dikarenakan memang belum ada produk yang terjual atau belum ada konsumen yang memberikan rating (meskipun sudah membeli produk tersebut).\n",
    "\n",
    "Oleh sebab itu, penanganan missing values kali ini akan berupa pengisian nilai yang sesuai pada konteks dari masing - masing kolom."
   ]
  },
  {
   "cell_type": "code",
   "execution_count": 232,
   "metadata": {},
   "outputs": [
    {
     "data": {
      "text/html": [
       "<div>\n",
       "<style scoped>\n",
       "    .dataframe tbody tr th:only-of-type {\n",
       "        vertical-align: middle;\n",
       "    }\n",
       "\n",
       "    .dataframe tbody tr th {\n",
       "        vertical-align: top;\n",
       "    }\n",
       "\n",
       "    .dataframe thead th {\n",
       "        text-align: right;\n",
       "    }\n",
       "</style>\n",
       "<table border=\"1\" class=\"dataframe\">\n",
       "  <thead>\n",
       "    <tr style=\"text-align: right;\">\n",
       "      <th></th>\n",
       "      <th>Nama Penjual</th>\n",
       "      <th>Nama Produk</th>\n",
       "      <th>Harga</th>\n",
       "      <th>Lokasi penjual</th>\n",
       "      <th>Jumlah terjual</th>\n",
       "      <th>Rating</th>\n",
       "    </tr>\n",
       "  </thead>\n",
       "  <tbody>\n",
       "    <tr>\n",
       "      <th>423</th>\n",
       "      <td>Helook Hydro Shop</td>\n",
       "      <td>KERUPUK SEBLAK KERITING / MAWAR / SEBLAK KEMBA...</td>\n",
       "      <td>Rp23.500</td>\n",
       "      <td>Bandung</td>\n",
       "      <td>1 terjual</td>\n",
       "      <td>NaN</td>\n",
       "    </tr>\n",
       "    <tr>\n",
       "      <th>433</th>\n",
       "      <td>greencan</td>\n",
       "      <td>krupuk bawang seblak warna mentah 250gr</td>\n",
       "      <td>Rp8.000</td>\n",
       "      <td>Jakarta Barat</td>\n",
       "      <td>NaN</td>\n",
       "      <td>NaN</td>\n",
       "    </tr>\n",
       "    <tr>\n",
       "      <th>439</th>\n",
       "      <td>TOKO MURAH 95</td>\n",
       "      <td>PROMO !!1 KG KERUPUK SEBLAK EXTRA PEDAS/CEMILA...</td>\n",
       "      <td>Rp20.000</td>\n",
       "      <td>Kab. Demak</td>\n",
       "      <td>1 terjual</td>\n",
       "      <td>NaN</td>\n",
       "    </tr>\n",
       "    <tr>\n",
       "      <th>440</th>\n",
       "      <td>greencan</td>\n",
       "      <td>KRUPUK / KERUPUK MENTAH / KERUPUK SEBLAK MENTA...</td>\n",
       "      <td>Rp8.000</td>\n",
       "      <td>Jakarta Barat</td>\n",
       "      <td>NaN</td>\n",
       "      <td>NaN</td>\n",
       "    </tr>\n",
       "    <tr>\n",
       "      <th>443</th>\n",
       "      <td>awaludin storee</td>\n",
       "      <td>KERUPUK SEBLAK (BAWANG)KRUPUK BANTET GURIH kha...</td>\n",
       "      <td>Rp4.000</td>\n",
       "      <td>Bogor</td>\n",
       "      <td>NaN</td>\n",
       "      <td>NaN</td>\n",
       "    </tr>\n",
       "    <tr>\n",
       "      <th>...</th>\n",
       "      <td>...</td>\n",
       "      <td>...</td>\n",
       "      <td>...</td>\n",
       "      <td>...</td>\n",
       "      <td>...</td>\n",
       "      <td>...</td>\n",
       "    </tr>\n",
       "    <tr>\n",
       "      <th>731</th>\n",
       "      <td>vieka mart official</td>\n",
       "      <td>Pangsit Kuah Seblak 300g Halal</td>\n",
       "      <td>Rp17.576</td>\n",
       "      <td>Tangerang Selatan</td>\n",
       "      <td>3 terjual</td>\n",
       "      <td>NaN</td>\n",
       "    </tr>\n",
       "    <tr>\n",
       "      <th>750</th>\n",
       "      <td>Ar-Raihanstore</td>\n",
       "      <td>Cemilan Kerupuk Seblak Kering Daun Jeruk Rasa ...</td>\n",
       "      <td>Rp6.000</td>\n",
       "      <td>Kab. Cirebon</td>\n",
       "      <td>6 terjual</td>\n",
       "      <td>NaN</td>\n",
       "    </tr>\n",
       "    <tr>\n",
       "      <th>759</th>\n",
       "      <td>mete shop55</td>\n",
       "      <td>NAGIHI KERUPUK BAWANG MENTAH/KERUPUK SEBLAK ME...</td>\n",
       "      <td>Rp72.000</td>\n",
       "      <td>Malang</td>\n",
       "      <td>NaN</td>\n",
       "      <td>NaN</td>\n",
       "    </tr>\n",
       "    <tr>\n",
       "      <th>762</th>\n",
       "      <td>ningsih778</td>\n",
       "      <td>Terlaris! 1KG Kerupuk Seblak Kang Asep Spesial...</td>\n",
       "      <td>Rp66.000</td>\n",
       "      <td>Jakarta Barat</td>\n",
       "      <td>NaN</td>\n",
       "      <td>NaN</td>\n",
       "    </tr>\n",
       "    <tr>\n",
       "      <th>765</th>\n",
       "      <td>Rebina Frozen Mart</td>\n",
       "      <td>CIKEMAM Seblak Seuhah</td>\n",
       "      <td>Rp16.500</td>\n",
       "      <td>Bandung</td>\n",
       "      <td>4 terjual</td>\n",
       "      <td>NaN</td>\n",
       "    </tr>\n",
       "  </tbody>\n",
       "</table>\n",
       "<p>83 rows × 6 columns</p>\n",
       "</div>"
      ],
      "text/plain": [
       "            Nama Penjual                                        Nama Produk  \\\n",
       "423    Helook Hydro Shop  KERUPUK SEBLAK KERITING / MAWAR / SEBLAK KEMBA...   \n",
       "433             greencan            krupuk bawang seblak warna mentah 250gr   \n",
       "439        TOKO MURAH 95  PROMO !!1 KG KERUPUK SEBLAK EXTRA PEDAS/CEMILA...   \n",
       "440             greencan  KRUPUK / KERUPUK MENTAH / KERUPUK SEBLAK MENTA...   \n",
       "443      awaludin storee  KERUPUK SEBLAK (BAWANG)KRUPUK BANTET GURIH kha...   \n",
       "..                   ...                                                ...   \n",
       "731  vieka mart official                     Pangsit Kuah Seblak 300g Halal   \n",
       "750       Ar-Raihanstore  Cemilan Kerupuk Seblak Kering Daun Jeruk Rasa ...   \n",
       "759          mete shop55  NAGIHI KERUPUK BAWANG MENTAH/KERUPUK SEBLAK ME...   \n",
       "762           ningsih778  Terlaris! 1KG Kerupuk Seblak Kang Asep Spesial...   \n",
       "765   Rebina Frozen Mart                              CIKEMAM Seblak Seuhah   \n",
       "\n",
       "        Harga     Lokasi penjual Jumlah terjual  Rating  \n",
       "423  Rp23.500            Bandung      1 terjual     NaN  \n",
       "433   Rp8.000      Jakarta Barat            NaN     NaN  \n",
       "439  Rp20.000         Kab. Demak      1 terjual     NaN  \n",
       "440   Rp8.000      Jakarta Barat            NaN     NaN  \n",
       "443   Rp4.000              Bogor            NaN     NaN  \n",
       "..        ...                ...            ...     ...  \n",
       "731  Rp17.576  Tangerang Selatan      3 terjual     NaN  \n",
       "750   Rp6.000       Kab. Cirebon      6 terjual     NaN  \n",
       "759  Rp72.000             Malang            NaN     NaN  \n",
       "762  Rp66.000      Jakarta Barat            NaN     NaN  \n",
       "765  Rp16.500            Bandung      4 terjual     NaN  \n",
       "\n",
       "[83 rows x 6 columns]"
      ]
     },
     "execution_count": 232,
     "metadata": {},
     "output_type": "execute_result"
    }
   ],
   "source": [
    "# Melihat nilai standard missing values\n",
    "ds.loc[(ds['Jumlah terjual'].isna()) | (ds['Rating'].isna())]"
   ]
  },
  {
   "cell_type": "markdown",
   "metadata": {},
   "source": [
    "Total ada 83 baris yang memiliki missing values. Jika terdapat 59 baris missing values pada kolom Jumlah terjual, 83 missing values pada kolom Rating, dan 83 total baris yang memiliki missing values, itu artinya mayoritas missing values disebabkan karena memang belum ada yang membeli produk tersebut. \n",
    "\n",
    "Setelah ini kita akan melakukan pengisian missing values. Pada kolom Jumlah terjual missing values akan diisi nilai string '0' (seusai dengan tipe data awal) dan rating akan diisi nilai numerik 0"
   ]
  },
  {
   "cell_type": "code",
   "execution_count": 233,
   "metadata": {},
   "outputs": [],
   "source": [
    "# Mengisi nilai missing values pada kolom Jumlah terjual\n",
    "ds['Jumlah terjual'] = ds['Jumlah terjual'].fillna('0')\n",
    "\n",
    "# Mengisi nilai missing values pada kolom Rating\n",
    "ds['Rating'] = ds['Rating'].fillna(0)"
   ]
  },
  {
   "cell_type": "code",
   "execution_count": 234,
   "metadata": {},
   "outputs": [
    {
     "data": {
      "text/plain": [
       "Nama Penjual      0\n",
       "Nama Produk       0\n",
       "Harga             0\n",
       "Lokasi penjual    0\n",
       "Jumlah terjual    0\n",
       "Rating            0\n",
       "dtype: int64"
      ]
     },
     "execution_count": 234,
     "metadata": {},
     "output_type": "execute_result"
    }
   ],
   "source": [
    "# Cek jumlah standard missing values\n",
    "ds.isna().sum()"
   ]
  },
  {
   "cell_type": "markdown",
   "metadata": {},
   "source": [
    "Dari data di atas didimpulkan bahwa missing values sudah berhasil dihapus"
   ]
  },
  {
   "cell_type": "markdown",
   "metadata": {},
   "source": [
    "#### 3.2.2 Cek Non Standard Missing Values"
   ]
  },
  {
   "cell_type": "markdown",
   "metadata": {},
   "source": [
    "Pada tahap ini, awalnya kita akan memberitahu sistem mengenai missing values apa saja yang kemungkinan akan muncul. Jika program menemukan salah satu dari beberapa missing values tersebut maka program akan menandai baris tersebut memiliki missing values. Beberapa kemungkinan missing values yang muncul adalah 'N/A', 'NA','None', 'none','unknown','Unknown','-','', dan False"
   ]
  },
  {
   "cell_type": "code",
   "execution_count": 235,
   "metadata": {},
   "outputs": [
    {
     "data": {
      "text/html": [
       "<div>\n",
       "<style scoped>\n",
       "    .dataframe tbody tr th:only-of-type {\n",
       "        vertical-align: middle;\n",
       "    }\n",
       "\n",
       "    .dataframe tbody tr th {\n",
       "        vertical-align: top;\n",
       "    }\n",
       "\n",
       "    .dataframe thead th {\n",
       "        text-align: right;\n",
       "    }\n",
       "</style>\n",
       "<table border=\"1\" class=\"dataframe\">\n",
       "  <thead>\n",
       "    <tr style=\"text-align: right;\">\n",
       "      <th></th>\n",
       "      <th>Nama Penjual</th>\n",
       "      <th>Nama Produk</th>\n",
       "      <th>Harga</th>\n",
       "      <th>Lokasi penjual</th>\n",
       "      <th>Jumlah terjual</th>\n",
       "      <th>Rating</th>\n",
       "    </tr>\n",
       "  </thead>\n",
       "  <tbody>\n",
       "    <tr>\n",
       "      <th>0</th>\n",
       "      <td>Sajodo Snack &amp; Food</td>\n",
       "      <td>SEBLAK INSTAN SAJODO SNACK</td>\n",
       "      <td>Rp22.500</td>\n",
       "      <td>Tasikmalaya</td>\n",
       "      <td>100+ terjual</td>\n",
       "      <td>4.8</td>\n",
       "    </tr>\n",
       "    <tr>\n",
       "      <th>1</th>\n",
       "      <td>Kylafood Jakarta</td>\n",
       "      <td>Kylafood Seblak Rempah Autentik</td>\n",
       "      <td>Rp14.000</td>\n",
       "      <td>Jakarta Selatan</td>\n",
       "      <td>250+ terjual</td>\n",
       "      <td>5.0</td>\n",
       "    </tr>\n",
       "    <tr>\n",
       "      <th>2</th>\n",
       "      <td>hikmah berkah jaya</td>\n",
       "      <td>seblak instant sajodo snak</td>\n",
       "      <td>Rp19.000</td>\n",
       "      <td>Jakarta Barat</td>\n",
       "      <td>1rb+ terjual</td>\n",
       "      <td>4.8</td>\n",
       "    </tr>\n",
       "    <tr>\n",
       "      <th>3</th>\n",
       "      <td>ivy's-kitchen</td>\n",
       "      <td>PROMO !!!! Seblak Instan Beli 20 free 1 Murah ...</td>\n",
       "      <td>Rp4.280</td>\n",
       "      <td>Kab. Tangerang</td>\n",
       "      <td>750+ terjual</td>\n",
       "      <td>4.7</td>\n",
       "    </tr>\n",
       "    <tr>\n",
       "      <th>4</th>\n",
       "      <td>Sajodo Snack &amp; Food</td>\n",
       "      <td>[ Buy 5 Get 5 ] Special Bedug Package (Baso Ac...</td>\n",
       "      <td>Rp150.000</td>\n",
       "      <td>Tasikmalaya</td>\n",
       "      <td>7 terjual</td>\n",
       "      <td>4.8</td>\n",
       "    </tr>\n",
       "    <tr>\n",
       "      <th>...</th>\n",
       "      <td>...</td>\n",
       "      <td>...</td>\n",
       "      <td>...</td>\n",
       "      <td>...</td>\n",
       "      <td>...</td>\n",
       "      <td>...</td>\n",
       "    </tr>\n",
       "    <tr>\n",
       "      <th>939</th>\n",
       "      <td>Mega_Snack_095</td>\n",
       "      <td>seblak bantat krupuk jaat beton 100 grm daun j...</td>\n",
       "      <td>Rp4.400</td>\n",
       "      <td>Cimahi</td>\n",
       "      <td>12 terjual</td>\n",
       "      <td>5.0</td>\n",
       "    </tr>\n",
       "    <tr>\n",
       "      <th>940</th>\n",
       "      <td>fajarfatihacollections</td>\n",
       "      <td>V♪NN KERUPUK BAWANG MENTAH -+5KG UNTUK SEBLAK ...</td>\n",
       "      <td>Rp103.000</td>\n",
       "      <td>Kab. Tangerang</td>\n",
       "      <td>3 terjual</td>\n",
       "      <td>5.0</td>\n",
       "    </tr>\n",
       "    <tr>\n",
       "      <th>941</th>\n",
       "      <td>Rebina Frozen Mart</td>\n",
       "      <td>CIKEMAM Seblak Seuhah</td>\n",
       "      <td>Rp16.500</td>\n",
       "      <td>Bandung</td>\n",
       "      <td>4 terjual</td>\n",
       "      <td>NaN</td>\n",
       "    </tr>\n",
       "    <tr>\n",
       "      <th>942</th>\n",
       "      <td>warungkopay</td>\n",
       "      <td>Cikur / Pilus Anisa Sari 230 Gram, Bahan Seblak</td>\n",
       "      <td>Rp21.000</td>\n",
       "      <td>Depok</td>\n",
       "      <td>14 terjual</td>\n",
       "      <td>5.0</td>\n",
       "    </tr>\n",
       "    <tr>\n",
       "      <th>943</th>\n",
       "      <td>kylafood</td>\n",
       "      <td>Kylafood Seblak Mie Baso</td>\n",
       "      <td>Rp26.125</td>\n",
       "      <td>Bandung</td>\n",
       "      <td>4rb+ terjual</td>\n",
       "      <td>4.9</td>\n",
       "    </tr>\n",
       "  </tbody>\n",
       "</table>\n",
       "<p>944 rows × 6 columns</p>\n",
       "</div>"
      ],
      "text/plain": [
       "               Nama Penjual  \\\n",
       "0       Sajodo Snack & Food   \n",
       "1          Kylafood Jakarta   \n",
       "2        hikmah berkah jaya   \n",
       "3             ivy's-kitchen   \n",
       "4       Sajodo Snack & Food   \n",
       "..                      ...   \n",
       "939          Mega_Snack_095   \n",
       "940  fajarfatihacollections   \n",
       "941      Rebina Frozen Mart   \n",
       "942             warungkopay   \n",
       "943                kylafood   \n",
       "\n",
       "                                           Nama Produk      Harga  \\\n",
       "0                           SEBLAK INSTAN SAJODO SNACK   Rp22.500   \n",
       "1                      Kylafood Seblak Rempah Autentik   Rp14.000   \n",
       "2                           seblak instant sajodo snak   Rp19.000   \n",
       "3    PROMO !!!! Seblak Instan Beli 20 free 1 Murah ...    Rp4.280   \n",
       "4    [ Buy 5 Get 5 ] Special Bedug Package (Baso Ac...  Rp150.000   \n",
       "..                                                 ...        ...   \n",
       "939  seblak bantat krupuk jaat beton 100 grm daun j...    Rp4.400   \n",
       "940  V♪NN KERUPUK BAWANG MENTAH -+5KG UNTUK SEBLAK ...  Rp103.000   \n",
       "941                              CIKEMAM Seblak Seuhah   Rp16.500   \n",
       "942    Cikur / Pilus Anisa Sari 230 Gram, Bahan Seblak   Rp21.000   \n",
       "943                           Kylafood Seblak Mie Baso   Rp26.125   \n",
       "\n",
       "      Lokasi penjual Jumlah terjual  Rating  \n",
       "0        Tasikmalaya   100+ terjual     4.8  \n",
       "1    Jakarta Selatan   250+ terjual     5.0  \n",
       "2      Jakarta Barat   1rb+ terjual     4.8  \n",
       "3     Kab. Tangerang   750+ terjual     4.7  \n",
       "4        Tasikmalaya      7 terjual     4.8  \n",
       "..               ...            ...     ...  \n",
       "939           Cimahi     12 terjual     5.0  \n",
       "940   Kab. Tangerang      3 terjual     5.0  \n",
       "941          Bandung      4 terjual     NaN  \n",
       "942            Depok     14 terjual     5.0  \n",
       "943          Bandung   4rb+ terjual     4.9  \n",
       "\n",
       "[944 rows x 6 columns]"
      ]
     },
     "execution_count": 235,
     "metadata": {},
     "output_type": "execute_result"
    }
   ],
   "source": [
    "# Inisialisasi jenis - jenis karakter yang akan dijadikan missing values\n",
    "ds_nsm = pd.read_csv('food_tokped2.csv', na_values=['N/A', 'NA','None', 'none','unknown','Unknown','-','', False],index_col=0)\n",
    "ds_nsm.reset_index(drop=True)"
   ]
  },
  {
   "cell_type": "code",
   "execution_count": 236,
   "metadata": {},
   "outputs": [
    {
     "data": {
      "text/plain": [
       "Nama Penjual       0\n",
       "Nama Produk        0\n",
       "Harga              0\n",
       "Lokasi penjual     0\n",
       "Jumlah terjual    59\n",
       "Rating            83\n",
       "dtype: int64"
      ]
     },
     "execution_count": 236,
     "metadata": {},
     "output_type": "execute_result"
    }
   ],
   "source": [
    "# Cek Non Standard Missing Values\n",
    "ds_nsm.isnull().sum()"
   ]
  },
  {
   "cell_type": "markdown",
   "metadata": {},
   "source": [
    "Dari hasil di atas dapat disimpulkan bahwa tidak ada non standard missing values pada tiap baris"
   ]
  },
  {
   "cell_type": "markdown",
   "metadata": {},
   "source": [
    "### 3.3 Penghapusan karakter string tertentu"
   ]
  },
  {
   "cell_type": "markdown",
   "metadata": {},
   "source": [
    "Tujuan dari subbab ini adalah untuk menghapus beberapa karakter yang dapat menghalangi proses pengubahan tipe data. Selain itu, penghapusan beberapa karakter string tertentu juga berguna untuk keperluan penyederhanaan segmentasi lokasi penjual.\n",
    "\n",
    "Pada tahap awal, kita akan memperbaiki ejaan kolom"
   ]
  },
  {
   "cell_type": "code",
   "execution_count": 237,
   "metadata": {},
   "outputs": [],
   "source": [
    "# Perbaiki nama kolom\n",
    "ds.rename(columns = {'Lokasi penjual' : 'Lokasi Penjual', 'Jumlah terjual' : 'Jumlah Terjual', 'Harga' : 'Harga (Rp)'}, inplace=True)"
   ]
  },
  {
   "cell_type": "code",
   "execution_count": 238,
   "metadata": {},
   "outputs": [
    {
     "name": "stdout",
     "output_type": "stream",
     "text": [
      "<class 'pandas.core.frame.DataFrame'>\n",
      "RangeIndex: 767 entries, 0 to 766\n",
      "Data columns (total 6 columns):\n",
      " #   Column          Non-Null Count  Dtype  \n",
      "---  ------          --------------  -----  \n",
      " 0   Nama Penjual    767 non-null    object \n",
      " 1   Nama Produk     767 non-null    object \n",
      " 2   Harga (Rp)      767 non-null    object \n",
      " 3   Lokasi Penjual  767 non-null    object \n",
      " 4   Jumlah Terjual  767 non-null    object \n",
      " 5   Rating          767 non-null    float64\n",
      "dtypes: float64(1), object(5)\n",
      "memory usage: 36.1+ KB\n"
     ]
    }
   ],
   "source": [
    "# Cek hasil perbaikan\n",
    "ds.info()"
   ]
  },
  {
   "cell_type": "code",
   "execution_count": 239,
   "metadata": {},
   "outputs": [],
   "source": [
    "# Menghapus karakter '+' dan '.' serta menghapus kata 'terjual', 'Kab', 'rb', dan 'Rp'\n",
    "for col in ds.loc[:,['Jumlah Terjual', 'Lokasi Penjual', 'Harga (Rp)']] :\n",
    "    ds[col] = ds[col].str.replace(r'\\+|terjual|\\.|Kab|rb|Rp|Selatan|Barat|Timur|Utara|Pusat','',regex=True)\n"
   ]
  },
  {
   "cell_type": "code",
   "execution_count": 240,
   "metadata": {},
   "outputs": [
    {
     "data": {
      "text/html": [
       "<div>\n",
       "<style scoped>\n",
       "    .dataframe tbody tr th:only-of-type {\n",
       "        vertical-align: middle;\n",
       "    }\n",
       "\n",
       "    .dataframe tbody tr th {\n",
       "        vertical-align: top;\n",
       "    }\n",
       "\n",
       "    .dataframe thead th {\n",
       "        text-align: right;\n",
       "    }\n",
       "</style>\n",
       "<table border=\"1\" class=\"dataframe\">\n",
       "  <thead>\n",
       "    <tr style=\"text-align: right;\">\n",
       "      <th></th>\n",
       "      <th>Nama Penjual</th>\n",
       "      <th>Nama Produk</th>\n",
       "      <th>Harga (Rp)</th>\n",
       "      <th>Lokasi Penjual</th>\n",
       "      <th>Jumlah Terjual</th>\n",
       "      <th>Rating</th>\n",
       "    </tr>\n",
       "  </thead>\n",
       "  <tbody>\n",
       "    <tr>\n",
       "      <th>0</th>\n",
       "      <td>Sajodo Snack &amp; Food</td>\n",
       "      <td>SEBLAK INSTAN SAJODO SNACK</td>\n",
       "      <td>22500</td>\n",
       "      <td>Tasikmalaya</td>\n",
       "      <td>100</td>\n",
       "      <td>4.8</td>\n",
       "    </tr>\n",
       "    <tr>\n",
       "      <th>1</th>\n",
       "      <td>Kylafood Jakarta</td>\n",
       "      <td>Kylafood Seblak Rempah Autentik</td>\n",
       "      <td>14000</td>\n",
       "      <td>Jakarta</td>\n",
       "      <td>250</td>\n",
       "      <td>5.0</td>\n",
       "    </tr>\n",
       "    <tr>\n",
       "      <th>2</th>\n",
       "      <td>hikmah berkah jaya</td>\n",
       "      <td>seblak instant sajodo snak</td>\n",
       "      <td>19000</td>\n",
       "      <td>Jakarta</td>\n",
       "      <td>1</td>\n",
       "      <td>4.8</td>\n",
       "    </tr>\n",
       "    <tr>\n",
       "      <th>3</th>\n",
       "      <td>ivy's-kitchen</td>\n",
       "      <td>PROMO !!!! Seblak Instan Beli 20 free 1 Murah ...</td>\n",
       "      <td>4280</td>\n",
       "      <td>Tangerang</td>\n",
       "      <td>750</td>\n",
       "      <td>4.7</td>\n",
       "    </tr>\n",
       "    <tr>\n",
       "      <th>4</th>\n",
       "      <td>Sajodo Snack &amp; Food</td>\n",
       "      <td>[ Buy 5 Get 5 ] Special Bedug Package (Baso Ac...</td>\n",
       "      <td>150000</td>\n",
       "      <td>Tasikmalaya</td>\n",
       "      <td>7</td>\n",
       "      <td>4.8</td>\n",
       "    </tr>\n",
       "  </tbody>\n",
       "</table>\n",
       "</div>"
      ],
      "text/plain": [
       "          Nama Penjual                                        Nama Produk  \\\n",
       "0  Sajodo Snack & Food                         SEBLAK INSTAN SAJODO SNACK   \n",
       "1     Kylafood Jakarta                    Kylafood Seblak Rempah Autentik   \n",
       "2   hikmah berkah jaya                         seblak instant sajodo snak   \n",
       "3        ivy's-kitchen  PROMO !!!! Seblak Instan Beli 20 free 1 Murah ...   \n",
       "4  Sajodo Snack & Food  [ Buy 5 Get 5 ] Special Bedug Package (Baso Ac...   \n",
       "\n",
       "  Harga (Rp) Lokasi Penjual Jumlah Terjual  Rating  \n",
       "0      22500    Tasikmalaya           100      4.8  \n",
       "1      14000       Jakarta            250      5.0  \n",
       "2      19000       Jakarta              1      4.8  \n",
       "3       4280      Tangerang           750      4.7  \n",
       "4     150000    Tasikmalaya             7      4.8  "
      ]
     },
     "execution_count": 240,
     "metadata": {},
     "output_type": "execute_result"
    }
   ],
   "source": [
    "# Cek hasil\n",
    "ds.head()"
   ]
  },
  {
   "cell_type": "markdown",
   "metadata": {},
   "source": [
    "Hasil penghapusan sudah berhasil sehingga kita dapat langsung mengganti tipe data kolom Harga(Rp) dan Jumlah Terjual ke tipe data yang sesuai dengan konteksnya"
   ]
  },
  {
   "cell_type": "markdown",
   "metadata": {},
   "source": [
    "### 3.4 Mengganti tipe data kolom Jumlah Terjual dan Harga"
   ]
  },
  {
   "cell_type": "markdown",
   "metadata": {},
   "source": [
    "Pergantian tipe data pada kolom Harga(Rp) dan Jumlah Terjual dilakukan karena nilai - nilai dari kedua kolom tersebut akan digunakan untuk perhitungan statistik, sementara tipe data dari kedua kolom tersebut masih bertipe object atau string"
   ]
  },
  {
   "cell_type": "code",
   "execution_count": 241,
   "metadata": {},
   "outputs": [],
   "source": [
    "# Mengganti tipe data Jumlah Terjual dan Harga\n",
    "for col in ds.loc[:,['Jumlah Terjual', 'Harga (Rp)']] :\n",
    "    ds[col] = ds[col].astype(int)"
   ]
  },
  {
   "cell_type": "code",
   "execution_count": 242,
   "metadata": {},
   "outputs": [
    {
     "name": "stdout",
     "output_type": "stream",
     "text": [
      "<class 'pandas.core.frame.DataFrame'>\n",
      "RangeIndex: 767 entries, 0 to 766\n",
      "Data columns (total 6 columns):\n",
      " #   Column          Non-Null Count  Dtype  \n",
      "---  ------          --------------  -----  \n",
      " 0   Nama Penjual    767 non-null    object \n",
      " 1   Nama Produk     767 non-null    object \n",
      " 2   Harga (Rp)      767 non-null    int32  \n",
      " 3   Lokasi Penjual  767 non-null    object \n",
      " 4   Jumlah Terjual  767 non-null    int32  \n",
      " 5   Rating          767 non-null    float64\n",
      "dtypes: float64(1), int32(2), object(3)\n",
      "memory usage: 30.1+ KB\n"
     ]
    }
   ],
   "source": [
    "# Cek hasil\n",
    "ds.info()"
   ]
  },
  {
   "cell_type": "markdown",
   "metadata": {},
   "source": [
    "Sekarang tipe data sudah berhasil diubah sehingga nilai - nilai dari kolom Harga(Rp) serta Jumlah Terjual dapat digunakan untuk melakukan perhitungan matematis"
   ]
  },
  {
   "cell_type": "markdown",
   "metadata": {},
   "source": [
    "### 3.5 Menghapus karakter spasi pada kolom dan nilai - nilai kolom"
   ]
  },
  {
   "cell_type": "code",
   "execution_count": 243,
   "metadata": {},
   "outputs": [
    {
     "data": {
      "text/plain": [
       "Index(['Nama Penjual', 'Nama Produk', 'Harga (Rp)', 'Lokasi Penjual',\n",
       "       'Jumlah Terjual', 'Rating'],\n",
       "      dtype='object')"
      ]
     },
     "execution_count": 243,
     "metadata": {},
     "output_type": "execute_result"
    }
   ],
   "source": [
    "# Menghapus karakter spasi pada bagian depan dan belakang nama kolom\n",
    "ds.columns = ds.columns.str.strip()\n",
    "\n",
    "# Cek hasil\n",
    "ds.columns"
   ]
  },
  {
   "cell_type": "code",
   "execution_count": 244,
   "metadata": {},
   "outputs": [],
   "source": [
    "# Menghapus karakter spasi pada bagian depan dan belakang nilai kolom\n",
    "for col in ds.loc[:,['Nama Penjual', 'Lokasi Penjual', 'Nama Produk']]:\n",
    "    ds[col] = ds[col].str.strip()"
   ]
  },
  {
   "cell_type": "markdown",
   "metadata": {},
   "source": [
    "# 4. Problem Statement"
   ]
  },
  {
   "cell_type": "markdown",
   "metadata": {},
   "source": [
    "Saya dalah seseorang yang ingin memulai usaha dropshipper. Salah satu produk yang membuat saya tertarik adalah seblak karena saat ini makanan tersebut sedang viral. Saat ini saya memiliki modal khusus usaha sebesar 2 juta dan saat ini saya tinggal di Bekasi. Target saya adalah dalam waktu 1 bulan saya bisa balik modal yang artinya target keuntungan saya dalam sebulan adalah Rp 2 juta. Dalam hal ini saya harus memiliki jawaban atas pertanyaan :\n",
    "\n",
    "1. Apakah produk seblak benar-benar mendapatkan animo besar dari masyarakat ?\n",
    "    - Cek rata - rata produk yang berhasil dijual\n",
    "    - Cek rata - rata rating produk seblak\n",
    "\n",
    "2. Apakah menjual produk seblak menguntungkan dan dapat membuat saya balik modal dalam waktu 1 bulan ?\n",
    "    - Cek pendapatan kotor produsen seblak per bulan\n",
    "    - Cek potensi pendapatan minimum\n",
    "3. Produsen mana yang dapat saya jadikan mitra bisnis ? \n",
    "    - Cek lokasi, rating, harga, dan jumlah produk yang berhasil terjual\n",
    "4. Apakah harga seblak memiliki pengaruh tehadap jumlah pembelian produk ?\n",
    "    - Cek korelasi antara jumlah penjualan dengan harga produk\n",
    "\n",
    "SMART analysis :\n",
    "1. Specific\n",
    "\n",
    "   Mendapatkan keuntungan awal sebesar modal awal dalam 1 bulan pertama penjualan\n",
    "2. Measurable\n",
    "\n",
    "   Mendapatkan keuntunga sebesar Rp. 2 juta dalam 1 bulan awal penjualan\n",
    "3. Achievable\n",
    "\n",
    "   Dengan memilih mitra bisnis (produsen) potensial yang memiliki rating dan produk terjual yang tinggi namun dengan harga produk yang tidak terlalu mahal\n",
    "4. Relevant\n",
    "\n",
    "   Mitra bisnis yang memiliki rating serta produk terjual tinggi akan membantu penjualan produk yang saya lakukan karena produk - produk yang mereka jual sudah terkenal \n",
    "   di segment produk seblak khususnya yang dijual di market place. Selain itu, jika harga produk yang mereka jual lebih murah dibandingkan rata - rata harga seblak di tokopedia, maka artinya terdapat margin agar saya dapat menaikan harga produk di harga yang wajar demi keuntungan\n",
    "5. Time bond\n",
    "\n",
    "   Dalam 1 bulan setelah penjualan, saya sudah haru mendapatkan keuntungan sebesar Rp 2 juta per bulan\n",
    "\n",
    "Problem statement : \n",
    "Mendapatkan keuntungan awal dalam 1 bulan setelah penjualan sebesar Rp 2 juta per bulan dengan cara menjual seblak yang diproduksi oleh mitra bisnis yang potensial"
   ]
  },
  {
   "cell_type": "markdown",
   "metadata": {},
   "source": [
    "# 5. Analysis"
   ]
  },
  {
   "cell_type": "markdown",
   "metadata": {},
   "source": [
    "Sebelum melakukan analisis, kita perlu melihat lagi informasi dasar dari data - data yang sudah dibersihkan\n",
    "\n"
   ]
  },
  {
   "cell_type": "code",
   "execution_count": 245,
   "metadata": {},
   "outputs": [
    {
     "name": "stdout",
     "output_type": "stream",
     "text": [
      "<class 'pandas.core.frame.DataFrame'>\n",
      "RangeIndex: 767 entries, 0 to 766\n",
      "Data columns (total 6 columns):\n",
      " #   Column          Non-Null Count  Dtype  \n",
      "---  ------          --------------  -----  \n",
      " 0   Nama Penjual    767 non-null    object \n",
      " 1   Nama Produk     767 non-null    object \n",
      " 2   Harga (Rp)      767 non-null    int32  \n",
      " 3   Lokasi Penjual  767 non-null    object \n",
      " 4   Jumlah Terjual  767 non-null    int32  \n",
      " 5   Rating          767 non-null    float64\n",
      "dtypes: float64(1), int32(2), object(3)\n",
      "memory usage: 30.1+ KB\n"
     ]
    }
   ],
   "source": [
    "ds.info()"
   ]
  },
  {
   "cell_type": "markdown",
   "metadata": {},
   "source": [
    "Dari info diatas dapat diambil informasi :\n",
    "1. Terdapat 767 data atau populasi produk yang diposting di tokopedia\n",
    "2. Nilai null sudah tidak ada sehingga dapat digunakan untuk analisa statistik"
   ]
  },
  {
   "cell_type": "code",
   "execution_count": 246,
   "metadata": {},
   "outputs": [
    {
     "name": "stdout",
     "output_type": "stream",
     "text": [
      "Jumlah penjual = 506\n",
      "Jumlah produk = 741\n"
     ]
    }
   ],
   "source": [
    "print(f'Jumlah penjual = {ds[\"Nama Penjual\"].nunique()}')\n",
    "print(f'Jumlah produk = {ds[\"Nama Produk\"].nunique()}')"
   ]
  },
  {
   "cell_type": "markdown",
   "metadata": {},
   "source": [
    "Dari 767 data produk seblak yang dijual di tokopedia, terdapat 741 produk dan 506 penjual. Jumlah produk yang dijual melebihi jumlah penjual dapat memiliki arti :\n",
    "1. Produsen memiliki lebih dari 1 jenis produk. Hal ini mengindikasikan adanya market segmentation (contoh : seblak dengan campuran bubuk keju untuk penyuka keju)\n",
    "2. Terdapat lebih dari 1 penjual yang memasarkan produknya di tokopedia. Contohnya adalah dropshipper yang menjual produk yang sama seperti produk yang dipasarkan oleh produsen\n"
   ]
  },
  {
   "cell_type": "code",
   "execution_count": 247,
   "metadata": {},
   "outputs": [
    {
     "data": {
      "text/plain": [
       "Rating\n",
       "5.0    383\n",
       "4.9    133\n",
       "4.8     96\n",
       "0.0     83\n",
       "4.7     26\n",
       "4.6     11\n",
       "4.5     11\n",
       "4.0      9\n",
       "4.3      7\n",
       "4.4      5\n",
       "3.7      1\n",
       "3.9      1\n",
       "4.2      1\n",
       "Name: count, dtype: int64"
      ]
     },
     "execution_count": 247,
     "metadata": {},
     "output_type": "execute_result"
    }
   ],
   "source": [
    "ds['Rating'].value_counts()"
   ]
  },
  {
   "cell_type": "code",
   "execution_count": 248,
   "metadata": {},
   "outputs": [
    {
     "name": "stdout",
     "output_type": "stream",
     "text": [
      "% Rating 5 = 54.09604519774012\n",
      "% Rating 0 = 11.72316384180791\n",
      "% Rating lebih dari 4 = 96.32768361581921\n"
     ]
    }
   ],
   "source": [
    "print(f'% Rating 5 = {(len(ds.loc[ds[\"Rating\"] == 5.0])/len((ds.loc[ds[\"Jumlah Terjual\"] != 0]))) * 100}')\n",
    "print(f'% Rating 0 = {(len(ds.loc[ds[\"Rating\"] == 0.0])/len((ds.loc[ds[\"Jumlah Terjual\"] != 0]))) * 100}')\n",
    "print(f'% Rating lebih dari 4 = {(len(ds.loc[ds[\"Rating\"] >= 4.0])/len((ds.loc[ds[\"Jumlah Terjual\"] != 0]))) * 100}')"
   ]
  },
  {
   "cell_type": "markdown",
   "metadata": {},
   "source": [
    "Dari 767 produk yang terjual, sebanyak 54 % diataranya memiliki berhasil mendapatkan rating 5 dan 11.72 % diantaranya memiliki rating 0. Hal ini dapat mengindikasikan beberapa hal :\n",
    "1. Rating 5 yang cukup banyak mengindikasikan bahwa mayoritas pembeli merasa sangat puas dengan mayoritas produk yang dijual\n",
    "2. Rating 0 sebanyak 11.72 % dapat mengindikasikan jika ada beberapa produk yang belum mendapatkan rating karena produk yang belum terjual atau karena pembeli belum memberikan rating\n",
    "3. Sebanyak 96.32 % pembeli merasa puas dengan produk seblak yang mereka beli. Hal ini mengindikasikan bahwa sebagian besar pembeli memang menyukai makanan seblak"
   ]
  },
  {
   "cell_type": "markdown",
   "metadata": {},
   "source": [
    "### 5.1 Menghitung Central Tendency"
   ]
  },
  {
   "cell_type": "markdown",
   "metadata": {},
   "source": [
    "Perhitungan central tendency diperlukan sebagai salah satu parameter yang dapat mendesktipsikan secarah sederhana suatu data atau suatu populasi. Dalam hal ini, saya perlu mendapatkan gambaran awal dari data yang saya dapatkan. Gambaran awal tersebut dapat diwakilkan oleh nilai rata - rata, nilai tengah, dan nilai yang sering muncul dari atribut harga, jumlah produk terjual, dan rating"
   ]
  },
  {
   "cell_type": "markdown",
   "metadata": {},
   "source": [
    "#### 5.1.1 Mean"
   ]
  },
  {
   "cell_type": "code",
   "execution_count": 249,
   "metadata": {},
   "outputs": [
    {
     "name": "stdout",
     "output_type": "stream",
     "text": [
      "Harga rata - rata produk = Rp. 39358.21\n"
     ]
    }
   ],
   "source": [
    "# Menghitung mean harga jual\n",
    "mean_harga = ds['Harga (Rp)'].mean()\n",
    "print(f'Harga rata - rata produk = Rp. {round(mean_harga,2)}')"
   ]
  },
  {
   "cell_type": "markdown",
   "metadata": {},
   "source": [
    "Rata - rata harga produk seblak sebesar Rp. 39358.21 . Hal ini cukup mengejutkan mengingat jika saya melakukan pencarian produk seblak di tokopedia, mayoritas harga yang saya lihat tidak setinggi itu. Kemungkinan terdapat ouliers dari data yang sudah saya dapatkan"
   ]
  },
  {
   "cell_type": "code",
   "execution_count": 250,
   "metadata": {},
   "outputs": [
    {
     "name": "stdout",
     "output_type": "stream",
     "text": [
      "Rata - rata produk yang terjual = 55.9 produk\n"
     ]
    }
   ],
   "source": [
    "# Menghitung mean jumlah produk terjual\n",
    "mean_produk_terjual = ds['Jumlah Terjual'].mean()\n",
    "print(f'Rata - rata produk yang terjual = {round(mean_produk_terjual,2)} produk')"
   ]
  },
  {
   "cell_type": "markdown",
   "metadata": {},
   "source": [
    "Rata - rata produk yang berhasil dijual oleh setiap penjual adalah 55.9 produk atau jika dibulatkan menjadi 56 produk. Namun hal ini belum bisa menggambarkan berapa rata - rata produk yang berhasil dijual oleh penjual pada periode waktu tertentu"
   ]
  },
  {
   "cell_type": "code",
   "execution_count": 251,
   "metadata": {},
   "outputs": [
    {
     "name": "stdout",
     "output_type": "stream",
     "text": [
      "Rata - rata rating = 4.37\n"
     ]
    }
   ],
   "source": [
    "# Menghitung nilai rata -rata rating dari seluruh produk yang dipajang\n",
    "mean_rating = ds['Rating'].mean()\n",
    "print(f'Rata - rata rating = {round(mean_rating,2)}')"
   ]
  },
  {
   "cell_type": "markdown",
   "metadata": {},
   "source": [
    "Dari seluruh produk seblak yang dipajang di tokopedia, rata - rata rating per produk yang dipajang adalah sebesar 4.37. Namun perhitungan tersebut masih menganggap produk yang belum berhasil terjual (dalam artian raitng dan jumlah produk masih 0) sebagai bagian dari populasi. Jika kita menghitung nilai rata - rata untuk produk yang hanya berhasil dijual maka didapatkan :"
   ]
  },
  {
   "cell_type": "code",
   "execution_count": 252,
   "metadata": {},
   "outputs": [
    {
     "name": "stdout",
     "output_type": "stream",
     "text": [
      "Nilai rata- rata rating produk yang berhasil dijual = 4.731214689265537\n"
     ]
    }
   ],
   "source": [
    "print(f'Nilai rata- rata rating produk yang berhasil dijual = {ds.loc[ds[\"Jumlah Terjual\"] != 0][\"Rating\"].mean()}')"
   ]
  },
  {
   "cell_type": "markdown",
   "metadata": {},
   "source": [
    "Nilai rata - rata rating di atas adalah nilai rata - rata rating yang dihitung berdasarkan populasi produk yang berhasil dijual. Nilainya lebih tinggi dibandingkan nilai rata - rata jika kita menganggap produk yang belum terjual sebagai bagian dari populasi. Nilai 4.73 bisa dapat dikatakan sangat tinggi untuk ukuran nilai rata - rata karena nilai tersebut mendekati nilai maksimal dari rating (5). Hal ini mengindikasikan bahwa memang sebagian besar masyarakat menyukai produk makanan seblak, terlepas dari variasi harga, rasa, maupun penjual"
   ]
  },
  {
   "cell_type": "markdown",
   "metadata": {},
   "source": [
    "#### 5.1.2 Median"
   ]
  },
  {
   "cell_type": "code",
   "execution_count": 253,
   "metadata": {},
   "outputs": [
    {
     "name": "stdout",
     "output_type": "stream",
     "text": [
      "Median harga produk = Rp. 16200.0\n"
     ]
    }
   ],
   "source": [
    "# Menghitung nilai median harga jual\n",
    "med_harga = ds['Harga (Rp)'].sort_values(ascending=True).median()\n",
    "print(f'Median harga produk = Rp. {round(med_harga,2)}')"
   ]
  },
  {
   "cell_type": "markdown",
   "metadata": {},
   "source": [
    "Nilai median harga yang didapat sebesar Rp. 16200. Nilai ini menggambarkan nilai tengah antara nilai maksimum dan minimum dalam suatu baris nilai. Dilihat dari nilai mean harga yang lebih besar dari nilai median (mean harga = Rp. 39358.21), hal ini mengindikasikan bahwa distribusi data harga cenderung bertipe right skewed. Artinya terdapat sebagian kecil produk yang memiliki harga jual yang sangat tinggi"
   ]
  },
  {
   "cell_type": "code",
   "execution_count": 254,
   "metadata": {},
   "outputs": [
    {
     "name": "stdout",
     "output_type": "stream",
     "text": [
      "Median jumlah terjual = 14.0\n"
     ]
    }
   ],
   "source": [
    "# Menghitung median jumlah produk terjual\n",
    "med_terjual = ds['Jumlah Terjual'].sort_values(ascending=True).median()\n",
    "print(f'Median jumlah terjual = {round(med_terjual,2)}')"
   ]
  },
  {
   "cell_type": "markdown",
   "metadata": {},
   "source": [
    "Nilai median jumlah terjual lebih rendah dibandingkan nilai rata - ratanya (55.9), hal ini juga mengindikasikan bahwa distribusi data jumlah terjual cenderung right skewed"
   ]
  },
  {
   "cell_type": "code",
   "execution_count": 255,
   "metadata": {},
   "outputs": [
    {
     "name": "stdout",
     "output_type": "stream",
     "text": [
      "Median rating = 4.9\n"
     ]
    }
   ],
   "source": [
    "# Menghitung median rating\n",
    "med_rating = ds['Rating'].sort_values(ascending=True).median()\n",
    "print(f'Median rating = {round(med_rating,2)}')"
   ]
  },
  {
   "cell_type": "markdown",
   "metadata": {},
   "source": [
    "Nilai median dari rating lebih tinggi dibandingkan nilai rata- rata rating (4.37). Hal ini mengindikasikan pada data rating distribusi cenderung bertipe left skewed"
   ]
  },
  {
   "cell_type": "markdown",
   "metadata": {},
   "source": [
    "#### 5.1.3 Menghitung modus"
   ]
  },
  {
   "cell_type": "code",
   "execution_count": 256,
   "metadata": {},
   "outputs": [
    {
     "name": "stdout",
     "output_type": "stream",
     "text": [
      "Modus harga produk = Rp. 8000\n"
     ]
    }
   ],
   "source": [
    "# Menghitung modus harga jual \n",
    "mod_harga = ds['Harga (Rp)'].mode().values[0]\n",
    "print(f'Modus harga produk = Rp. {round(mod_harga,2)}')"
   ]
  },
  {
   "cell_type": "markdown",
   "metadata": {},
   "source": [
    "Modus adalah nilai yang paling sering muncul dalam suatu data. Dari data harga didapatkan modus Rp. 8000, artinya mayoritas produk dijual pada harga Rp. 8000. Hasil ini dapat mengindikasikan bahwa mayoritas penjual berada pada daerah yang sama atau pada daerah yang berdekatan, karena daerah yang sama atau daerah yang berdekatan memiliki kemungkinan adanya kemiripan harga bahan baku"
   ]
  },
  {
   "cell_type": "code",
   "execution_count": 257,
   "metadata": {},
   "outputs": [
    {
     "name": "stdout",
     "output_type": "stream",
     "text": [
      "Modus jumlah produk terjual = 100\n"
     ]
    }
   ],
   "source": [
    "# Menghitung modus jumlah produk terjual\n",
    "mod_terjual = ds['Jumlah Terjual'].mode().values[0]\n",
    "print(f'Modus jumlah produk terjual = {round(mod_terjual,2)}')"
   ]
  },
  {
   "cell_type": "markdown",
   "metadata": {},
   "source": [
    "Nilai di atas memiliki arti bahwa mayoritas jumlah produk yang berhasil dijual adalah sebanyak 100 pcs. "
   ]
  },
  {
   "cell_type": "code",
   "execution_count": 258,
   "metadata": {},
   "outputs": [
    {
     "name": "stdout",
     "output_type": "stream",
     "text": [
      "Modus rating = 5.0\n"
     ]
    }
   ],
   "source": [
    "# Menghitung modus rating\n",
    "mod_rating = ds['Rating'].mode().values[0]\n",
    "print(f'Modus rating = {round(mod_rating,2)}')"
   ]
  },
  {
   "cell_type": "markdown",
   "metadata": {},
   "source": [
    "Nilai di atas memiliki arti bahwa mayoritas rating yang diberikan konsumen terhadap produk - produk yang dipajang adalah sebesar 5.0. Nilai ini adalah nilai maksimum dari rating yang artinya mayoritas pembeli merasa puas terhadap produk seblak yang dijual di tokopedia. Hal ini mengindikasikan bahwa mayoritas konsumen merasa cocok dengan makanan seblak yang artinya menjual seblak memang cukup menjanjikan"
   ]
  },
  {
   "cell_type": "markdown",
   "metadata": {},
   "source": [
    "### 5.2 Menghitung Skewness"
   ]
  },
  {
   "cell_type": "markdown",
   "metadata": {},
   "source": [
    "Skewness menunjukan gambaran mengenai distribusi atau penyebaran data. Jika sebuah data memiliki banyak nilai ekstim (outliers) rendah atau tinggi, maka distribusi datanya pada grafik menjadi tidak simetris. Sama seperti kasus saat nilai median harga produk lebih rendah dibandingkan nilai mean harga produk yang menunjukan bahwa terdapat nilai harga ekstrim yang nilainya lebih besar dibandingkan nilai harga lain. Ini biasa terjadi jika pada suatu populasi terdapat outliers atau nilai ekstrim.\n",
    "\n",
    "Arti dari nilai - nilai skewness sendiri adalah :\n",
    "1. Jika nilai nya berada pada rentang (-0.5) - (+0.5), data dapat dianggap simetris atau mayoritas nilai pada data mendekati nilai rata - rata\n",
    "2. Jika nilai nya berada pada rentang (-1) - (-0.5) dan (+0.5) - (+1), data dapat dianggap kurang simetris atau beberapa nilai bersifat ekstrim\n",
    "3. Jika nilai nya kurang dari (-1) dan lebih besar dari (+1), data dianggap sangat tidak simetris dan mengindikasikan banyak nilai ekstrim yang menjauh dari nilai rata - rata"
   ]
  },
  {
   "cell_type": "markdown",
   "metadata": {},
   "source": [
    "#### 5.2.1 Menghitung Nilai Skewness Harga Produk"
   ]
  },
  {
   "cell_type": "code",
   "execution_count": 259,
   "metadata": {},
   "outputs": [
    {
     "name": "stdout",
     "output_type": "stream",
     "text": [
      "Skewness harga jual = 18.5654\n"
     ]
    }
   ],
   "source": [
    "# Menghitung skewness harga jual \n",
    "skew_harga = ds['Harga (Rp)'].skew()\n",
    "print(f'Skewness harga jual = {round(skew_harga,4)}')"
   ]
  },
  {
   "cell_type": "code",
   "execution_count": 260,
   "metadata": {},
   "outputs": [
    {
     "data": {
      "text/plain": [
       "<Axes: >"
      ]
     },
     "execution_count": 260,
     "metadata": {},
     "output_type": "execute_result"
    },
    {
     "data": {
      "image/png": "[encoded data removed]",
      "text/plain": [
       "<Figure size 1000x400 with 2 Axes>"
      ]
     },
     "metadata": {},
     "output_type": "display_data"
    }
   ],
   "source": [
    "fig, ax = plt.subplots(ncols=2,figsize=(10,4))\n",
    "\n",
    "ds['Harga (Rp)'].plot(kind='hist',bins=20,ax=ax[0])\n",
    "ds['Harga (Rp)'].plot(kind='box',ax=ax[1])"
   ]
  },
  {
   "cell_type": "markdown",
   "metadata": {},
   "source": [
    "Dari nilai skewness dan grafik di atas disimpulkan bahwa terdapat banyak outliers yang membuat distribusi data menjadi tidak simetris. Karena nilai skewnessnya positif, ini artinya data harga memiliki banyak nilai yang sangat tinggi dibandingkan mayoritas nilai populasi. Ini bisa terjadi jika :\n",
    "\n",
    "1. Terdapat produk lain selain seblak yang masuk ke dalam data sehingga menjadi outliers. Hal ini dibuktikan dengan adanya titil - titil outliers diluar upper bond pada grafik box plot\n",
    "2. Beberapa produsen memang menjual dengan harga yang cukup ekstrim dibandingkan harga rata - rata produk. Misalkan, suatu produsen membuat produk seblak dengan topping mewah yang diimpor dari negara lain. Hal - hal seperti ini tentu dapat membuat harga jual seblak menjadi lebih ekstrim dibandingkan harga rata - ratanya"
   ]
  },
  {
   "cell_type": "markdown",
   "metadata": {},
   "source": [
    "#### 5.2.2 Menghitung Nilai Skewness Jumlah Barang Terjual"
   ]
  },
  {
   "cell_type": "code",
   "execution_count": 261,
   "metadata": {},
   "outputs": [
    {
     "name": "stdout",
     "output_type": "stream",
     "text": [
      "Skewness jumlah produk terjual = 3.8046\n"
     ]
    }
   ],
   "source": [
    "# Menghitung skewness jumlah produk terjual\n",
    "skew_terjual = ds['Jumlah Terjual'].skew()\n",
    "print(f'Skewness jumlah produk terjual = {round(skew_terjual,4)}')"
   ]
  },
  {
   "cell_type": "code",
   "execution_count": 262,
   "metadata": {},
   "outputs": [
    {
     "data": {
      "text/plain": [
       "Jumlah Terjual\n",
       "100    89\n",
       "1      63\n",
       "0      59\n",
       "2      51\n",
       "4      44\n",
       "Name: count, dtype: int64"
      ]
     },
     "execution_count": 262,
     "metadata": {},
     "output_type": "execute_result"
    }
   ],
   "source": [
    "ds['Jumlah Terjual'].value_counts().head()"
   ]
  },
  {
   "cell_type": "code",
   "execution_count": 263,
   "metadata": {},
   "outputs": [
    {
     "data": {
      "text/plain": [
       "<Axes: >"
      ]
     },
     "execution_count": 263,
     "metadata": {},
     "output_type": "execute_result"
    },
    {
     "data": {
      "image/png": "[encoded data removed]",
      "text/plain": [
       "<Figure size 1000x400 with 2 Axes>"
      ]
     },
     "metadata": {},
     "output_type": "display_data"
    }
   ],
   "source": [
    "fig, ax = plt.subplots(ncols=2,figsize=(10,4))\n",
    "\n",
    "ds['Jumlah Terjual'].plot(kind='hist',bins=10,ax=ax[0])\n",
    "ds['Jumlah Terjual'].plot(kind='box',ax=ax[1])"
   ]
  },
  {
   "cell_type": "markdown",
   "metadata": {},
   "source": [
    "Nilai skewness jumlah produk terjual juga lebih besar dari +1 yang artinya terdapat beberapa produk yang terjual dengan jumlah yang sangat banyak tetapi frekuensinya kemunculannya sedikit atau hanya sedikit produk yang mencapai penjualan sebesar itu. Ini artinya terdapat produsen dengan jumlah kapasitas produksi yang besar dan brand produknya sudah cukup terkenal di kalangan masyarakat. Dari nilai skewness dan grafik histogram dapat disimpulkan jika distribusi data bertipe right skewed. Dari grafik box dapat diketahui jika data Jumlah Terjual memiliki sejumlah outliers yang membuat distribusi data menjadi tidak normal"
   ]
  },
  {
   "cell_type": "markdown",
   "metadata": {},
   "source": [
    "#### 5.2.3 Menghitung Nilai Skewness Rating"
   ]
  },
  {
   "cell_type": "code",
   "execution_count": 264,
   "metadata": {},
   "outputs": [
    {
     "name": "stdout",
     "output_type": "stream",
     "text": [
      "Skewness rating = -2.4714\n"
     ]
    }
   ],
   "source": [
    "# Menghitung skewness rating\n",
    "skew_rating = ds['Rating'].skew()\n",
    "print(f'Skewness rating = {round(skew_rating,4)}')"
   ]
  },
  {
   "cell_type": "code",
   "execution_count": 265,
   "metadata": {},
   "outputs": [
    {
     "data": {
      "text/plain": [
       "<Axes: >"
      ]
     },
     "execution_count": 265,
     "metadata": {},
     "output_type": "execute_result"
    },
    {
     "data": {
      "image/png": "[encoded data removed]",
      "text/plain": [
       "<Figure size 1000x400 with 2 Axes>"
      ]
     },
     "metadata": {},
     "output_type": "display_data"
    }
   ],
   "source": [
    "fig, ax = plt.subplots(ncols=2,figsize=(10,4))\n",
    "\n",
    "ds['Rating'].plot(kind='hist',bins=10,ax=ax[0])\n",
    "ds['Rating'].plot(kind='box',ax=ax[1])"
   ]
  },
  {
   "cell_type": "markdown",
   "metadata": {},
   "source": [
    "Dari nilai dan grafik di atas dapat disimpulkan bahwa beberapa produk yang dijual memiliki nilai rating yang rendah atau bahkan belum ada rating sama sekali (0) karena distribusi datanya yang bertipe left skewed. Sedangkan nilai rating tertinggi memiliki frekuensi kemunculan yang jauh lebih besar. Dari grafik box dapat diketahui jika data Rating memiliki sejumlah outliers yang membuat distribusi data menjadi tidak normal"
   ]
  },
  {
   "cell_type": "markdown",
   "metadata": {},
   "source": [
    "### 5.3 Menghitung nilai kurtosis"
   ]
  },
  {
   "cell_type": "markdown",
   "metadata": {},
   "source": [
    "Sama seperti tes skewness, kurtosis dapat menunjukan banyak tidaknya nilai ekstrim suatu data. Nilai kurtosis yang melebihi satu (Leptokurtic) memiliki arti bahwa suatu data memiliki nilai ekstrim. Nilai kurtosis 0 (Mesokurtic) memiliki arti suatu data tidak memiliki banyak nilai ekstrim. Nilai kurtosis kurang dari 0 (Platykurtic) memiliki arti bahwa data memiliki nilai ekstrim yang sangat sedikit "
   ]
  },
  {
   "cell_type": "markdown",
   "metadata": {},
   "source": [
    "#### 5.3.1 Menghitung nilai kurtosis harga"
   ]
  },
  {
   "cell_type": "code",
   "execution_count": 266,
   "metadata": {},
   "outputs": [
    {
     "name": "stdout",
     "output_type": "stream",
     "text": [
      "Kurtosis harga jual = 391.8381\n"
     ]
    }
   ],
   "source": [
    "# Menghitung kurtosis harga jual\n",
    "kurt_harga = ds['Harga (Rp)'].kurtosis()\n",
    "print(f'Kurtosis harga jual = {round(kurt_harga,4)}')"
   ]
  },
  {
   "cell_type": "markdown",
   "metadata": {},
   "source": [
    "Hasil di atas mengindikasikan bahwa pada kolom harga terdapat banyak sekali nilai outliers"
   ]
  },
  {
   "cell_type": "markdown",
   "metadata": {},
   "source": [
    "#### 5.3.2 Menghitung nilai kurtosis jumlah terjual"
   ]
  },
  {
   "cell_type": "code",
   "execution_count": 267,
   "metadata": {},
   "outputs": [
    {
     "name": "stdout",
     "output_type": "stream",
     "text": [
      "Kurtosis jumlah produk terjual = 16.7236\n"
     ]
    }
   ],
   "source": [
    "# Menghitung kurtosis jumlah produk terjual\n",
    "kurt_terjual = ds['Jumlah Terjual'].kurtosis()\n",
    "print(f'Kurtosis jumlah produk terjual = {round(kurt_terjual,4)}')"
   ]
  },
  {
   "cell_type": "markdown",
   "metadata": {},
   "source": [
    "Hasil di atas menunjukan bahwa pada kolom jumlah terjual terdapat banyak sekali outliers atau jumlah produk terjual yang ekstrim dengan frekuensi kemunculan sedikit "
   ]
  },
  {
   "cell_type": "markdown",
   "metadata": {},
   "source": [
    "#### 5.3.3 Menghitung nilai kurtosis rating"
   ]
  },
  {
   "cell_type": "code",
   "execution_count": 268,
   "metadata": {},
   "outputs": [
    {
     "name": "stdout",
     "output_type": "stream",
     "text": [
      "Kurtosis rating = 4.2192\n"
     ]
    }
   ],
   "source": [
    "# Menghitung kurtosis rating\n",
    "kurt_rating = ds['Rating'].kurtosis()\n",
    "print(f'Kurtosis rating = {round(kurt_rating,4)}')"
   ]
  },
  {
   "cell_type": "markdown",
   "metadata": {},
   "source": [
    "Nilai di atas menunjukan bahwa pada kolom rating terdapat nilai rating yang ekstrim. Dalam konteks rating, nilai ekstrimnya berbeda dengan kolom harga dan jumlah produk terjual karena pada kolom rating, nilai ekstrimnya adalah nilai dengan rating rendah atau bahkan tidak memiliki rating"
   ]
  },
  {
   "cell_type": "markdown",
   "metadata": {},
   "source": [
    "### 5.5 Mencari mitra bisnis atau produsen yang sesuai"
   ]
  },
  {
   "cell_type": "markdown",
   "metadata": {},
   "source": [
    "Seperti yang kita ketahui dari analisa central tendensi, skewness, dan kurtosis, data pada kolom harga produk, jumlah produk yang terjual, dan rating memiliki outliers dengan nilai yang cukup ekstrim sehingga distribusi datanya tidak normal (right skewed). Namun ketidak normalan distribusi data tersebut kita dapat mengambil insight :\n",
    "\n",
    "1. Terdapat produsen seblak yang memiliki jumlah penjualan yang sangat tinggi di atas rata - rata\n",
    "2. Terdapat produsen seblak dengan penjualan tinggi dan rating di atas atau sama dengan nilai rating rata - rata\n",
    "3. Terdapat terdapat produsen seblak dengan penjualan tinggi, rating di atas rata - rata, namun dengan harga di bawah harga rata - rata\n",
    "\n",
    "Karakteristik produsen tersebut akan kita kategorikan sebagai calon mitra bisnis potensial"
   ]
  },
  {
   "cell_type": "code",
   "execution_count": 269,
   "metadata": {},
   "outputs": [
    {
     "data": {
      "text/html": [
       "<div>\n",
       "<style scoped>\n",
       "    .dataframe tbody tr th:only-of-type {\n",
       "        vertical-align: middle;\n",
       "    }\n",
       "\n",
       "    .dataframe tbody tr th {\n",
       "        vertical-align: top;\n",
       "    }\n",
       "\n",
       "    .dataframe thead th {\n",
       "        text-align: right;\n",
       "    }\n",
       "</style>\n",
       "<table border=\"1\" class=\"dataframe\">\n",
       "  <thead>\n",
       "    <tr style=\"text-align: right;\">\n",
       "      <th></th>\n",
       "      <th>Nama Penjual</th>\n",
       "      <th>Nama Produk</th>\n",
       "      <th>Harga (Rp)</th>\n",
       "      <th>Lokasi Penjual</th>\n",
       "      <th>Jumlah Terjual</th>\n",
       "      <th>Rating</th>\n",
       "    </tr>\n",
       "  </thead>\n",
       "  <tbody>\n",
       "    <tr>\n",
       "      <th>27</th>\n",
       "      <td>Seblak Mang Muss</td>\n",
       "      <td>SEBLAK INSTAN MANG MUSS - LEVEL 10</td>\n",
       "      <td>13999</td>\n",
       "      <td>Tasikmalaya</td>\n",
       "      <td>750</td>\n",
       "      <td>4.9</td>\n",
       "    </tr>\n",
       "    <tr>\n",
       "      <th>3</th>\n",
       "      <td>ivy's-kitchen</td>\n",
       "      <td>PROMO !!!! Seblak Instan Beli 20 free 1 Murah ...</td>\n",
       "      <td>4280</td>\n",
       "      <td>Tangerang</td>\n",
       "      <td>750</td>\n",
       "      <td>4.7</td>\n",
       "    </tr>\n",
       "    <tr>\n",
       "      <th>5</th>\n",
       "      <td>GK_Snack</td>\n",
       "      <td>KERUPUK MENTAH SERBA 5000 BAHAN SEBLAK</td>\n",
       "      <td>6000</td>\n",
       "      <td>Bandung</td>\n",
       "      <td>750</td>\n",
       "      <td>4.9</td>\n",
       "    </tr>\n",
       "    <tr>\n",
       "      <th>88</th>\n",
       "      <td>Utama.Snack</td>\n",
       "      <td>Kerupuk Seblak Pedas 200gr - mawar</td>\n",
       "      <td>13500</td>\n",
       "      <td>Surabaya</td>\n",
       "      <td>750</td>\n",
       "      <td>4.9</td>\n",
       "    </tr>\n",
       "    <tr>\n",
       "      <th>696</th>\n",
       "      <td>Lakoca Official Shop</td>\n",
       "      <td>Latagor Batagor Instan Original - Tinggal Sedu...</td>\n",
       "      <td>16618</td>\n",
       "      <td>Cimahi</td>\n",
       "      <td>750</td>\n",
       "      <td>4.8</td>\n",
       "    </tr>\n",
       "    <tr>\n",
       "      <th>...</th>\n",
       "      <td>...</td>\n",
       "      <td>...</td>\n",
       "      <td>...</td>\n",
       "      <td>...</td>\n",
       "      <td>...</td>\n",
       "      <td>...</td>\n",
       "    </tr>\n",
       "    <tr>\n",
       "      <th>350</th>\n",
       "      <td>NeoStoreYogyakarta</td>\n",
       "      <td>snack kerupuk seblak pedas - kerupuk seblak pe...</td>\n",
       "      <td>11000</td>\n",
       "      <td>Yogyakarta</td>\n",
       "      <td>60</td>\n",
       "      <td>5.0</td>\n",
       "    </tr>\n",
       "    <tr>\n",
       "      <th>75</th>\n",
       "      <td>Kairashop_id</td>\n",
       "      <td>KRUPUK SEBLAK RAFAEL | SEBRING | KERUPUK MAWAR...</td>\n",
       "      <td>3800</td>\n",
       "      <td>Surabaya</td>\n",
       "      <td>60</td>\n",
       "      <td>4.9</td>\n",
       "    </tr>\n",
       "    <tr>\n",
       "      <th>253</th>\n",
       "      <td>Hosana Snack</td>\n",
       "      <td>Krupuk Stik Seblak /pedas 1kg</td>\n",
       "      <td>12000</td>\n",
       "      <td>Bogor</td>\n",
       "      <td>60</td>\n",
       "      <td>4.9</td>\n",
       "    </tr>\n",
       "    <tr>\n",
       "      <th>742</th>\n",
       "      <td>Hanui Food</td>\n",
       "      <td>Seblak Frozen</td>\n",
       "      <td>16000</td>\n",
       "      <td>Jakarta</td>\n",
       "      <td>60</td>\n",
       "      <td>5.0</td>\n",
       "    </tr>\n",
       "    <tr>\n",
       "      <th>508</th>\n",
       "      <td>widjati</td>\n",
       "      <td>KERUPUK SEBLAK (UDANG) KRUPUK bantet 60gr TERL...</td>\n",
       "      <td>4000</td>\n",
       "      <td>Kediri</td>\n",
       "      <td>60</td>\n",
       "      <td>4.9</td>\n",
       "    </tr>\n",
       "  </tbody>\n",
       "</table>\n",
       "<p>174 rows × 6 columns</p>\n",
       "</div>"
      ],
      "text/plain": [
       "             Nama Penjual                                        Nama Produk  \\\n",
       "27       Seblak Mang Muss                 SEBLAK INSTAN MANG MUSS - LEVEL 10   \n",
       "3           ivy's-kitchen  PROMO !!!! Seblak Instan Beli 20 free 1 Murah ...   \n",
       "5                GK_Snack             KERUPUK MENTAH SERBA 5000 BAHAN SEBLAK   \n",
       "88            Utama.Snack                 Kerupuk Seblak Pedas 200gr - mawar   \n",
       "696  Lakoca Official Shop  Latagor Batagor Instan Original - Tinggal Sedu...   \n",
       "..                    ...                                                ...   \n",
       "350    NeoStoreYogyakarta  snack kerupuk seblak pedas - kerupuk seblak pe...   \n",
       "75           Kairashop_id  KRUPUK SEBLAK RAFAEL | SEBRING | KERUPUK MAWAR...   \n",
       "253          Hosana Snack                      Krupuk Stik Seblak /pedas 1kg   \n",
       "742            Hanui Food                                      Seblak Frozen   \n",
       "508               widjati  KERUPUK SEBLAK (UDANG) KRUPUK bantet 60gr TERL...   \n",
       "\n",
       "     Harga (Rp) Lokasi Penjual  Jumlah Terjual  Rating  \n",
       "27        13999    Tasikmalaya             750     4.9  \n",
       "3          4280      Tangerang             750     4.7  \n",
       "5          6000        Bandung             750     4.9  \n",
       "88        13500       Surabaya             750     4.9  \n",
       "696       16618         Cimahi             750     4.8  \n",
       "..          ...            ...             ...     ...  \n",
       "350       11000     Yogyakarta              60     5.0  \n",
       "75         3800       Surabaya              60     4.9  \n",
       "253       12000          Bogor              60     4.9  \n",
       "742       16000        Jakarta              60     5.0  \n",
       "508        4000         Kediri              60     4.9  \n",
       "\n",
       "[174 rows x 6 columns]"
      ]
     },
     "execution_count": 269,
     "metadata": {},
     "output_type": "execute_result"
    }
   ],
   "source": [
    "ds.loc[((ds['Harga (Rp)'] <= ds['Harga (Rp)'].mean()) & (ds['Jumlah Terjual'] > ds['Jumlah Terjual'].mean())) & (ds['Rating'] >= ds['Rating'].mean())].sort_values(by='Jumlah Terjual',ascending=False)"
   ]
  },
  {
   "cell_type": "markdown",
   "metadata": {},
   "source": [
    "Dari data di atas terlihat bahwa penjual 'ivy's-kitchen' memiliki harga seblak yang sangat murah dibandingkan harga rata - ratanya (Rp. 39.358) dengan jumlah produk terjual dan rating yang sangat tinggi (Rata - rata produk terjual adalah 56 pcs dan rata - rata nilai rating adalah 4.37). Dari segi lokasi pun 'ivy's-kitchen' terbilang tidak terlalu jauh dari Bekasi. Oleh karena itu, 'ivy's-kitchen' adalah mitra bisnis potensial.\n",
    "\n",
    "Namun sebelum itu, saya ingin memastikan berapa pendapatan kotor yang akan saya dapatkan jika saya ingin menjual seblak, mengingat target saya adalah balik modal dalam 1 bulan kedepan (Rp 1.2 juta). Oleh karena itu, saya harus melakukan perhitungan potensi pendapatan minimum serta maksimum dalam sebulan. Dalam hal ini, pendapatan minimum saya harus sebesar Rp. 1.2 juta"
   ]
  },
  {
   "cell_type": "markdown",
   "metadata": {},
   "source": [
    "### 5.6 Apakah potensi pendapatan sesuai dengan target pendapatan yang ingin dicapai ?\n"
   ]
  },
  {
   "cell_type": "markdown",
   "metadata": {},
   "source": [
    "Pada tahap ini saya ingin memastikan berapa pendapatan kotor yang akan saya dapatkan jika saya ingin menjual seblak, mengingat target saya adalah dapat balik modal dalam 1 bulan kedepan (Rp 2 juta). Oleh karena itu, saya harus melakukan perhitungan potensi pendapatan minimum serta maksimum dalam sebulan. Dalam hal ini, pendapatan minimum saya harus sebesar Rp. 2 juta untuk mengantisipasi jika tidak semua produk terjual.\n",
    "\n",
    "Di sini saya akan memakai asumsi bahwa data jumlah terjual adalah data yang dihasilkan per bulannya. Untuk mendapatkan perkiraan pendapatan perbulan maka saya harus membuat kolom baru yang dapat menghasilkan nilai pendapatan perbulan dari tiap penjual. Dalam konteks ini, pendapatan per bulan adalah hasil perkalian dari harga produk dengan jumlah terjual.\n"
   ]
  },
  {
   "cell_type": "code",
   "execution_count": 271,
   "metadata": {},
   "outputs": [
    {
     "data": {
      "text/html": [
       "<div>\n",
       "<style scoped>\n",
       "    .dataframe tbody tr th:only-of-type {\n",
       "        vertical-align: middle;\n",
       "    }\n",
       "\n",
       "    .dataframe tbody tr th {\n",
       "        vertical-align: top;\n",
       "    }\n",
       "\n",
       "    .dataframe thead th {\n",
       "        text-align: right;\n",
       "    }\n",
       "</style>\n",
       "<table border=\"1\" class=\"dataframe\">\n",
       "  <thead>\n",
       "    <tr style=\"text-align: right;\">\n",
       "      <th></th>\n",
       "      <th>Nama Penjual</th>\n",
       "      <th>Nama Produk</th>\n",
       "      <th>Harga (Rp)</th>\n",
       "      <th>Lokasi Penjual</th>\n",
       "      <th>Jumlah Terjual</th>\n",
       "      <th>Rating</th>\n",
       "      <th>Pendapatan perbulan</th>\n",
       "    </tr>\n",
       "  </thead>\n",
       "  <tbody>\n",
       "    <tr>\n",
       "      <th>0</th>\n",
       "      <td>Sajodo Snack &amp; Food</td>\n",
       "      <td>SEBLAK INSTAN SAJODO SNACK</td>\n",
       "      <td>22500</td>\n",
       "      <td>Tasikmalaya</td>\n",
       "      <td>100</td>\n",
       "      <td>4.8</td>\n",
       "      <td>2250000</td>\n",
       "    </tr>\n",
       "    <tr>\n",
       "      <th>1</th>\n",
       "      <td>Kylafood Jakarta</td>\n",
       "      <td>Kylafood Seblak Rempah Autentik</td>\n",
       "      <td>14000</td>\n",
       "      <td>Jakarta</td>\n",
       "      <td>250</td>\n",
       "      <td>5.0</td>\n",
       "      <td>3500000</td>\n",
       "    </tr>\n",
       "    <tr>\n",
       "      <th>2</th>\n",
       "      <td>hikmah berkah jaya</td>\n",
       "      <td>seblak instant sajodo snak</td>\n",
       "      <td>19000</td>\n",
       "      <td>Jakarta</td>\n",
       "      <td>1</td>\n",
       "      <td>4.8</td>\n",
       "      <td>19000</td>\n",
       "    </tr>\n",
       "    <tr>\n",
       "      <th>3</th>\n",
       "      <td>ivy's-kitchen</td>\n",
       "      <td>PROMO !!!! Seblak Instan Beli 20 free 1 Murah ...</td>\n",
       "      <td>4280</td>\n",
       "      <td>Tangerang</td>\n",
       "      <td>750</td>\n",
       "      <td>4.7</td>\n",
       "      <td>3210000</td>\n",
       "    </tr>\n",
       "    <tr>\n",
       "      <th>4</th>\n",
       "      <td>Sajodo Snack &amp; Food</td>\n",
       "      <td>[ Buy 5 Get 5 ] Special Bedug Package (Baso Ac...</td>\n",
       "      <td>150000</td>\n",
       "      <td>Tasikmalaya</td>\n",
       "      <td>7</td>\n",
       "      <td>4.8</td>\n",
       "      <td>1050000</td>\n",
       "    </tr>\n",
       "    <tr>\n",
       "      <th>...</th>\n",
       "      <td>...</td>\n",
       "      <td>...</td>\n",
       "      <td>...</td>\n",
       "      <td>...</td>\n",
       "      <td>...</td>\n",
       "      <td>...</td>\n",
       "      <td>...</td>\n",
       "    </tr>\n",
       "    <tr>\n",
       "      <th>762</th>\n",
       "      <td>ningsih778</td>\n",
       "      <td>Terlaris! 1KG Kerupuk Seblak Kang Asep Spesial...</td>\n",
       "      <td>66000</td>\n",
       "      <td>Jakarta</td>\n",
       "      <td>0</td>\n",
       "      <td>0.0</td>\n",
       "      <td>0</td>\n",
       "    </tr>\n",
       "    <tr>\n",
       "      <th>763</th>\n",
       "      <td>Mega_Snack_095</td>\n",
       "      <td>seblak bantat krupuk jaat beton 100 grm daun j...</td>\n",
       "      <td>4400</td>\n",
       "      <td>Cimahi</td>\n",
       "      <td>12</td>\n",
       "      <td>5.0</td>\n",
       "      <td>52800</td>\n",
       "    </tr>\n",
       "    <tr>\n",
       "      <th>764</th>\n",
       "      <td>fajarfatihacollections</td>\n",
       "      <td>V♪NN KERUPUK BAWANG MENTAH -+5KG UNTUK SEBLAK ...</td>\n",
       "      <td>103000</td>\n",
       "      <td>Tangerang</td>\n",
       "      <td>3</td>\n",
       "      <td>5.0</td>\n",
       "      <td>309000</td>\n",
       "    </tr>\n",
       "    <tr>\n",
       "      <th>765</th>\n",
       "      <td>Rebina Frozen Mart</td>\n",
       "      <td>CIKEMAM Seblak Seuhah</td>\n",
       "      <td>16500</td>\n",
       "      <td>Bandung</td>\n",
       "      <td>4</td>\n",
       "      <td>0.0</td>\n",
       "      <td>66000</td>\n",
       "    </tr>\n",
       "    <tr>\n",
       "      <th>766</th>\n",
       "      <td>warungkopay</td>\n",
       "      <td>Cikur / Pilus Anisa Sari 230 Gram, Bahan Seblak</td>\n",
       "      <td>21000</td>\n",
       "      <td>Depok</td>\n",
       "      <td>14</td>\n",
       "      <td>5.0</td>\n",
       "      <td>294000</td>\n",
       "    </tr>\n",
       "  </tbody>\n",
       "</table>\n",
       "<p>767 rows × 7 columns</p>\n",
       "</div>"
      ],
      "text/plain": [
       "               Nama Penjual  \\\n",
       "0       Sajodo Snack & Food   \n",
       "1          Kylafood Jakarta   \n",
       "2        hikmah berkah jaya   \n",
       "3             ivy's-kitchen   \n",
       "4       Sajodo Snack & Food   \n",
       "..                      ...   \n",
       "762              ningsih778   \n",
       "763          Mega_Snack_095   \n",
       "764  fajarfatihacollections   \n",
       "765      Rebina Frozen Mart   \n",
       "766             warungkopay   \n",
       "\n",
       "                                           Nama Produk  Harga (Rp)  \\\n",
       "0                           SEBLAK INSTAN SAJODO SNACK       22500   \n",
       "1                      Kylafood Seblak Rempah Autentik       14000   \n",
       "2                           seblak instant sajodo snak       19000   \n",
       "3    PROMO !!!! Seblak Instan Beli 20 free 1 Murah ...        4280   \n",
       "4    [ Buy 5 Get 5 ] Special Bedug Package (Baso Ac...      150000   \n",
       "..                                                 ...         ...   \n",
       "762  Terlaris! 1KG Kerupuk Seblak Kang Asep Spesial...       66000   \n",
       "763  seblak bantat krupuk jaat beton 100 grm daun j...        4400   \n",
       "764  V♪NN KERUPUK BAWANG MENTAH -+5KG UNTUK SEBLAK ...      103000   \n",
       "765                              CIKEMAM Seblak Seuhah       16500   \n",
       "766    Cikur / Pilus Anisa Sari 230 Gram, Bahan Seblak       21000   \n",
       "\n",
       "    Lokasi Penjual  Jumlah Terjual  Rating  Pendapatan perbulan  \n",
       "0      Tasikmalaya             100     4.8              2250000  \n",
       "1          Jakarta             250     5.0              3500000  \n",
       "2          Jakarta               1     4.8                19000  \n",
       "3        Tangerang             750     4.7              3210000  \n",
       "4      Tasikmalaya               7     4.8              1050000  \n",
       "..             ...             ...     ...                  ...  \n",
       "762        Jakarta               0     0.0                    0  \n",
       "763         Cimahi              12     5.0                52800  \n",
       "764      Tangerang               3     5.0               309000  \n",
       "765        Bandung               4     0.0                66000  \n",
       "766          Depok              14     5.0               294000  \n",
       "\n",
       "[767 rows x 7 columns]"
      ]
     },
     "execution_count": 271,
     "metadata": {},
     "output_type": "execute_result"
    }
   ],
   "source": [
    "# Membuat kolom pendapatan per bulan\n",
    "ds['Pendapatan perbulan'] = ds['Harga (Rp)']*ds['Jumlah Terjual']\n",
    "ds"
   ]
  },
  {
   "cell_type": "code",
   "execution_count": 272,
   "metadata": {},
   "outputs": [
    {
     "name": "stdout",
     "output_type": "stream",
     "text": [
      "Rata - rata pendapatan kotor = Rp. 1402660.7574967404\n"
     ]
    }
   ],
   "source": [
    "# Menghitung rata - rata pendapatan kotor\n",
    "print(f'Rata - rata pendapatan kotor = Rp. {ds[\"Pendapatan perbulan\"].mean()}')"
   ]
  },
  {
   "cell_type": "markdown",
   "metadata": {},
   "source": [
    "Pada perhitungan potensi pendapatan minimum dan maksimum, kita menggunakan confidence interval sebesar 95 %. Artinya, kita yakin bahwa terdapat 95 % kemungkinan dari seluruh populasi jika nilai pendapatan rata - rata kita akan berada pada rentang pendapatan minimum dan maksimum tertentu"
   ]
  },
  {
   "cell_type": "code",
   "execution_count": 273,
   "metadata": {},
   "outputs": [
    {
     "name": "stdout",
     "output_type": "stream",
     "text": [
      "Potensi pendapatan minimum = Rp. 1039264.4368914464\n",
      "Potensi pendapatan maksimum = Rp. 1766057.0781020345\n"
     ]
    }
   ],
   "source": [
    "std = ds['Pendapatan perbulan'].std()\n",
    "N = len(ds)\n",
    "low, up = stats.norm.interval(0.95,loc=ds['Pendapatan perbulan'].mean(),scale=std/np.sqrt(N))\n",
    "print('Potensi pendapatan minimum = Rp.',low)\n",
    "print('Potensi pendapatan maksimum = Rp.',up)"
   ]
  },
  {
   "cell_type": "markdown",
   "metadata": {},
   "source": [
    "Dari data di atas, dapat disimpulkan bahwa terdapat 95% kemungkinan pendapatan rata - rata saya akan berada pada rentang Rp. 1.039.264 - Rp. 1.766.057 atau dengan kata lain potensi pendapatan maksimum saya dalam menjual seblak adalah sebesar  Rp. 1.766.057 dan potensi pendapatan minimum saya adalah sebesar  Rp. 1.039.264. Nilai minimum dan maksimum tersebut tidak memenuhi syarat pendapatan minimum yang saya butuhkan agar dapat balik modal dalam 1 bulan. Artinya, target pendapatan saya tidak akan tercapai jika saya tetap menargetkan pendapatan minimum setelah 1 bulan berjualan sebesar Rp. 2 juta."
   ]
  },
  {
   "cell_type": "markdown",
   "metadata": {},
   "source": [
    "### 5.5 Pengaruh lokasi terhadap harga produk"
   ]
  },
  {
   "cell_type": "markdown",
   "metadata": {},
   "source": [
    "Pada tahap ini, saya akan memastikan apakah lokasi penjual memiliki pengaruh terhadap harga produk dengan melakukan tes uji hipotesis. Sebagai contoh, jika suatu saat terjadi inflansi yang cukup tinggi pada suatu daerah, maka kemungkinan besar harga produk yang dijual oleh produsen di daerah tersebut akan ikut naik. Untuk mengatasi hal tersebut maka diperlukan mitra bisnis cadangan yang dekat dengan sumber bahan bahan baku seblak agar jika terjadi inflasi, diharapkan produsen seblak tidak menaikan produknya secara berlebihan atau bahkan diharapkan tidak menaikan harga produknya sama sekali. \n",
    "\n",
    "Pengujian hipotesis yang digunakan adalah pengujian T-test two sided test dengan 2 sample. Berikut hipotesis yang diajukan :\n",
    "\n",
    "Hipotesis 0 : Tidak terdapat perbedaan harga seblak antara lokasi Jabodetabek dan di luar Jabodetabek -> μJabodetabek == μnJabodetabek\n",
    "\n",
    "Hipotesis 1 : Terdapat perbedaan harga seblak antara lokasi Jabodetabek dan di luar Jabodetabek -> μJabodetabek != μnJabodetabek\n",
    "\n",
    "Pada hipotesis di atas, saya ingin mengetahui apakah ada perbedaan harga seblak yang dijual di tokopedia antara penjual yang berlokasi di Jabodetabek dengan penjual yang berlokasi di luar daerah tersebut. Mengingat target penjual yang akan saya jadikan mitra bisnis (ivy's-kitchen) berasal dari tangerang maka yang akan saya bandingkan adalah penjual yang berada di luar kawasan Jabodetabek "
   ]
  },
  {
   "cell_type": "code",
   "execution_count": 274,
   "metadata": {},
   "outputs": [
    {
     "data": {
      "text/plain": [
       "393"
      ]
     },
     "execution_count": 274,
     "metadata": {},
     "output_type": "execute_result"
    }
   ],
   "source": [
    "# Menghitung jumlah penjual yang berasal dari Jabodetabek\n",
    "len(ds.loc[ds['Lokasi Penjual'].isin(['Jakarta', 'Bogor', 'Depok','Tangerang','Bekasi'])])"
   ]
  },
  {
   "cell_type": "code",
   "execution_count": 275,
   "metadata": {},
   "outputs": [
    {
     "data": {
      "text/plain": [
       "374"
      ]
     },
     "execution_count": 275,
     "metadata": {},
     "output_type": "execute_result"
    }
   ],
   "source": [
    "# Menghitung jumlah penjual yang berasal dari luar Jabodetabek\n",
    "len(ds.loc[~ds['Lokasi Penjual'].isin(['Jakarta', 'Bogor', 'Depok','Tangerang','Bekasi'])])"
   ]
  },
  {
   "cell_type": "code",
   "execution_count": 276,
   "metadata": {},
   "outputs": [],
   "source": [
    "# Membuat variable list untuk data harga seblak dari penjual yang berlokasi di Jabodetabek\n",
    "harga_jbdtb = ds.loc[ds['Lokasi Penjual'].isin(['Jakarta', 'Bogor', 'Depok','Tangerang','Bekasi'])]['Harga (Rp)']\n",
    "\n",
    "# Membuat variable list untuk data harga seblak dari penjual yang berlokasi di luar Jabodetabek\n",
    "harga_njbdtb = ds.loc[~ds['Lokasi Penjual'].isin(['Jakarta', 'Bogor', 'Depok','Tangerang','Bekasi'])]['Harga (Rp)']"
   ]
  },
  {
   "cell_type": "code",
   "execution_count": 277,
   "metadata": {},
   "outputs": [
    {
     "name": "stdout",
     "output_type": "stream",
     "text": [
      "Harga rata - rata seblak dari penjual Jabodetabek = 51346.02290076336\n",
      "Harga rata - rata seblak dari penjual non Jabodetabek = 26761.38770053476\n"
     ]
    }
   ],
   "source": [
    "# Harga rata - rata produk dari penjual yang berlokasi di Jabodetabek\n",
    "print(f'Harga rata - rata seblak dari penjual Jabodetabek = {harga_jbdtb.mean()}')\n",
    "\n",
    "# Harga rata - rata produk dari penjual yang berlokasi di Jabodetabek\n",
    "print(f'Harga rata - rata seblak dari penjual non Jabodetabek = {harga_njbdtb.mean()}')"
   ]
  },
  {
   "cell_type": "code",
   "execution_count": 278,
   "metadata": {},
   "outputs": [
    {
     "name": "stdout",
     "output_type": "stream",
     "text": [
      "P-Value: 0.2549179583666028\n",
      "HO diterima, H1 ditolak : Tidak ada perbedaan signifikan antara seblak yang dijual oleh produsen asal Jabodetabek dengan produsen di luar Jabodetabek\n"
     ]
    }
   ],
   "source": [
    "# Mencari nilai P-Value\n",
    "critical_value = 0.05\n",
    "t,p = stats.ttest_rel(harga_jbdtb.sample(30),harga_njbdtb.sample(30)) \n",
    "print('P-Value:',p)\n",
    "\n",
    "if p > critical_value :\n",
    "    print('HO diterima, H1 ditolak : Tidak ada perbedaan signifikan antara seblak yang dijual oleh produsen asal Jabodetabek dengan produsen di luar Jabodetabek')\n",
    "else :\n",
    "    print('H1 diterima, H0 ditolak : Tidak ada perbedaan signifikan antara seblak yang dijual oleh produsen asal Jabodetabek dengan produsen di luar Jabodetabek')"
   ]
  },
  {
   "cell_type": "markdown",
   "metadata": {},
   "source": [
    "Jika nilai confidence level adalah 95% dan critical values adalah 5% atau 0.05, maka dapat dimpulkan bahwa tidak ada perbedaan signifikan antara harga rata-rata produk seblak yang dijual oleh penjual asal Jabodetabek dengan produk seblak yang dijual oleh penjual yang asalnya di luar Jabodetabek karena nilai P-value > critical value, atau :\n",
    "\n",
    " HO diterima \n",
    " \n",
    " H1 ditolak"
   ]
  },
  {
   "cell_type": "markdown",
   "metadata": {},
   "source": [
    "### 5.4 Pengaruh harga seblak dengan terhadap penjualan produk"
   ]
  },
  {
   "cell_type": "markdown",
   "metadata": {},
   "source": [
    "Setelah tahu siapa mitra bisnis potensial, berapa potensi pendapatan minimum, dan pengaruh lokasi terhadap harga produk, sekarang saya akan mencoba melakukan analisis hubungan antara harga seblak dengan jumlah penjualan produk. Dengan kata lain, analisis ini juga menjawab pertanyaan mengenai apakah konsumen seblak lebih menyukai seblak dengan harga yang rendah. Analisis ini penting untuk menjelaskan mengapa 'ivy's-kitchen' memiliki jumlah penjualan dan nilai rating di atas rata - rata, karena produk seblak yang dijual oleh 'ivy's-kitchen' lebih murah dibandingkan harga rata-rata.\n",
    "\n",
    "Untuk mengetahui korelasi antara harga seblak dengan jumlah penjualan, maka saya akan menggunakan analisis korelasi Spearman. Analisis korelasi spearman digunakan dengan alasan :\n",
    "1. Data yang dipakai bersifat numerik\n",
    "2. Data yang dipakai tidak terdistribusi secara normal atau dengan kata lain skewed "
   ]
  },
  {
   "cell_type": "code",
   "execution_count": 279,
   "metadata": {},
   "outputs": [
    {
     "data": {
      "text/plain": [
       "<seaborn.axisgrid.FacetGrid at 0x1d33ed546d0>"
      ]
     },
     "execution_count": 279,
     "metadata": {},
     "output_type": "execute_result"
    },
    {
     "data": {
      "image/png": "[encoded data removed]",
      "text/plain": [
       "<Figure size 500x500 with 1 Axes>"
      ]
     },
     "metadata": {},
     "output_type": "display_data"
    }
   ],
   "source": [
    "# Membuat plot Harga vs Jumlah Terjual\n",
    "sns.lmplot(data=ds,x='Harga (Rp)', y='Jumlah Terjual')"
   ]
  },
  {
   "cell_type": "code",
   "execution_count": 280,
   "metadata": {},
   "outputs": [
    {
     "name": "stdout",
     "output_type": "stream",
     "text": [
      "rho-correlation = -0.10, p-value = 0.007880901270158964\n"
     ]
    }
   ],
   "source": [
    "corr_rho, pval_s = stats.spearmanr(ds['Harga (Rp)'], ds['Jumlah Terjual'])\n",
    "print(f\"rho-correlation = {corr_rho:.2f}, p-value = {pval_s}\")\n"
   ]
  },
  {
   "cell_type": "markdown",
   "metadata": {},
   "source": [
    "Di sini kita menggunakan ciritcal value sebesar 0.05. Karena nilai p-val lebih kecil dibandingkan critical value (p-val < c-val), maka kita dapat menyimpulkan bahwa terdapat hubungan antara harga produk dengan jumlah penjualan atau dapat dikatakan suka tidak sukanya konsumen seblak terhadap suatu produk seblak, dapat dipengaruhi dengan harga produk seblak itu sendiri.\n",
    "\n",
    "Berarti salah satu faktor mengapa penjualan ivy's-kitchen lebih besar dibandingkan penjualan rata - rata kemungkinan besar kemungkinan disebabkan karena harga produk ivy's-kitchen (Rp 4.280) yang lebih murah dibandingkan harga rata - rata (Rp 39.358)"
   ]
  },
  {
   "cell_type": "markdown",
   "metadata": {},
   "source": [
    "# 6. Kesimpulan"
   ]
  },
  {
   "cell_type": "markdown",
   "metadata": {},
   "source": [
    "1. Dengan harga rata - rata produk Rp. 39.358 dan harga produk calon mitra bisnis potensial sebesar Rp 4.280, maka potensi pendapatan kotor minimal saya adalah sebesar Rp. 1.039.264 dan potensi pendapatan kotor maksimal saya adalah sebesar Rp. 1.766.057. Dengan potensi harga minimal sebesar itu, maka kemungkinan besar saya tidak akan dapat mencapai target pendapatan kotor sebesar Rp 2 juta dalam 1 bulan setelah penjualan. Agar tetap bisa berjualan seblak, setidaknya saya harus menurunkan target pendapatan kotor setelah berjualan seblak selama 1 bulan sebesar Rp. 1.039.264. Nilai tersebut bukanlah nilai yang pasti akan didapatkan mengingat kemungkinannya sebesar 95% (sesuai confidence level)\n",
    "\n",
    "2. Ivy's-kitchen menjadi calon mitra bisnis potensial untuk menjalankan usaha dropshipper. Hal ini dikarenakan beberapa hal sebagai berikut :\n",
    "\n",
    "    -Harga produk yang dijual ivy's-kitchen lebih murah dibandingkan harga rata-rata. Harga jual ivy's-kitchen sebesar Rp 4.280 dan harga jual rata - rata sebesar Rp. 39.358 sehingga saya masih memiliki margin untuk menaikan harga produk demi mendapatkan keuntungan \n",
    "\n",
    "    -Jumlah produk terjual telah dijual oleh ivy's-kitchen (750 pcs) lebih banyak dibandingkan jumlah terjual rata-rata populasi (56 pcs). Hal ini mengindikasikan bahwa produk ivy's-kitchen sudah cukup populer dan sudah diketahui oleh banyak konsumen seblak pengguna tokopedia. \n",
    "    \n",
    "    Berdasarkan hasil uji korelasi spearman mengenai korelasi antara harga produk dengan jumlah penjualan, didapatkan kesimpulan bahwa semakin murah harga produk seblak maka kemungkinan semakin banyak yang membeli produk seblak tersebut, atau dengan kata lain harga juga mempengaruhi minat masyara terhadap produk seblak. Harga murah yang dijual ivy's-kitchen menjadi keuntungan buat saya karena harga produk yang akan saya jual (sudah dinaikan harganya) memiliki potensi berada di bawah harga rata - rata\n",
    "\n",
    "    -Nilai rating produk ivy's-kitchen (4.7) lebih besar dibandingkan nilai rating rata - rata populasi (4.37). Hal ini mengindikasikan bahwa produk yang dijual oelh ivy's-kitchen banyak disukai oleh masyarakat\n",
    "\n",
    "3. Berdasarkan hasil analisa central tendency dan skewness, maka dapat diambil kesimpulan bahwa data tidak terdistribusi secara normal pada kolom harga, jumlah terjual, dan rating. Hal ini menunjukan banyaknya variasi nilai pada masing - masing kolom tersebut dan adanya keberadaan nilai - nilai ekstrim. Nilai - nilai ekstrim pada masing - masing kolom dapat memiliki arti :\n",
    "    - Kolom harga (right skewed) : \n",
    "    Terdapat produk yang harganya sangat tinggi dan hanya terjual sedikit, mengindikasikan bahwa produk yang harganya murah lebih dipilih oleh masyarakat. Hal ini ditegaskan juga oleh hasil pengujian korelasi spearman. Berarti jika saya ingin berjualan seblak, harga yang saya berikan tidak boleh terlalu mahal higga di atas rata - rata harga produk\n",
    "\n",
    "    - Kolom jumlah terjual (right skewed) : \n",
    "    Terdapat produk seblak yang baru sedikit total penjualannya atau terdapat produk seblak yang belum dibeli sama sekali\n",
    "\n",
    "    - Kolom rating (left skewed):\n",
    "    Terdapat beberapa produk yang belum memiliki rating atau atau beberapa produk yang memiliki rating rendah. Karena mayoritas nilai berkumpul pada bagian kanan dan menurun pada bagian kiri, ini artinya mayoritas produk memiliki ratting yang yang cukup tinggi. Hal ini juga bisa menyiratkan bahwa produk seblak (apapun itu) disukai oleh mayoritas pembeli\n",
    "\n",
    "    "
   ]
  },
  {
   "cell_type": "markdown",
   "metadata": {},
   "source": []
  }
 ],
 "metadata": {
  "kernelspec": {
   "display_name": "base",
   "language": "python",
   "name": "python3"
  },
  "language_info": {
   "codemirror_mode": {
    "name": "ipython",
    "version": 3
   },
   "file_extension": ".py",
   "mimetype": "text/x-python",
   "name": "python",
   "nbconvert_exporter": "python",
   "pygments_lexer": "ipython3",
   "version": "3.11.7"
  }
 },
 "nbformat": 4,
 "nbformat_minor": 2
}
